{
 "cells": [
  {
   "cell_type": "markdown",
   "metadata": {},
   "source": [
    "# QCoDeS example with Rigol DSG3136B"
   ]
  },
  {
   "cell_type": "markdown",
   "metadata": {},
   "source": [
    "The [Rigol DSG3136B](https://www.rigol-uk.co.uk/product/rigol-dsg3136b-13-6ghz-rf-signal-generator/) is an RF signal generator."
   ]
  },
  {
   "cell_type": "markdown",
   "metadata": {},
   "source": [
    "## Setup and testing\n",
    "### Setup\n",
    "1. Make sure you have QCoDeS set up (see the [QCoDeS website](https://microsoft.github.io/Qcodes/index.html) or my notebook [14 minutes to QCoDeS](https://github.com/lairdgrouplancaster/14-minutes-to-QCoDeS/blob/main/14_minutes_to_QCoDeS.ipynb).)\n",
    "2. Connect a USB cable to the instrument and turn it on.\n",
    "3. On my PC, it seems to be necessary to run UltraSigma (Rigol's proprietary interface program), then unplug and replug USB.\n",
    "4. Edit the code below to set your USB address, and run it.\n",
    "   \n",
    "Sometimes the final line throws the following error when the instrument should identify itself:\n",
    "\n",
    "`pyvisa.errors.VisaIOError: ('VI_ERROR_TMO (-1073807339): Timeout expired before operation completed.', \"asking '*IDN?' to <RigolDSG3136B: r_3136B_1>\")`\n",
    "\n",
    "If so, proceed to the next cell and check that the instrument correctly identifies itself there. If so, you don't have a problem."
   ]
  },
  {
   "cell_type": "code",
   "execution_count": 1,
   "metadata": {},
   "outputs": [
    {
     "name": "stdout",
     "output_type": "stream",
     "text": [
      "Connected to: Rigol Technologies DSG3136B (serial:DSG3E244600050, firmware:00.01.02) in 0.27s\n"
     ]
    }
   ],
   "source": [
    "import time\n",
    "import qcodes as qc\n",
    "from qcodes_contrib_drivers.drivers.Rigol.Rigol_DSG3136B import RigolDSG3136B\n",
    "\n",
    "qc.Instrument.close_all() # Closes all open instruments, in case there is a duplicate for any reason.\n",
    "sg_1 = RigolDSG3136B('r_3136B_1', 'USB0::0x1AB1::0x099C::DSG3E244600050::INSTR')  # Set your USB address here."
   ]
  },
  {
   "cell_type": "markdown",
   "metadata": {},
   "source": [
    "### Test the connection\n",
    "Run:"
   ]
  },
  {
   "cell_type": "code",
   "execution_count": 2,
   "metadata": {},
   "outputs": [
    {
     "data": {
      "text/plain": [
       "'Rigol Technologies,DSG3136B,DSG3E244600050,00.01.02'"
      ]
     },
     "execution_count": 2,
     "metadata": {},
     "output_type": "execute_result"
    }
   ],
   "source": [
    "sg_1.identify()      # Should print the name of the instrument"
   ]
  },
  {
   "cell_type": "markdown",
   "metadata": {},
   "source": [
    "### Testing basic parameters\n",
    "Run the following commands, and check by looking at the front of your instrument that they are having the desired effect."
   ]
  },
  {
   "cell_type": "code",
   "execution_count": 3,
   "metadata": {},
   "outputs": [
    {
     "data": {
      "text/plain": [
       "-4.56"
      ]
     },
     "execution_count": 3,
     "metadata": {},
     "output_type": "execute_result"
    }
   ],
   "source": [
    "sg_1.output('ON')       # Turn output on\n",
    "sg_1.frequency(1.23e9)  # Set the instrument frequency\n",
    "sg_1.level(-4.56)       # Set the instrument power level\n",
    "sg_1.level()            # Query the instrument power level"
   ]
  },
  {
   "cell_type": "markdown",
   "metadata": {},
   "source": [
    "## Using the instrument in an experiment\n",
    "This is how to use the instrument in a do1d() measurement scan.\n",
    "\n",
    "### Setting up the experiment\n",
    "Run the following commands to set up logging, the QCoDeS station, and the database:"
   ]
  },
  {
   "cell_type": "code",
   "execution_count": 4,
   "metadata": {},
   "outputs": [
    {
     "name": "stdout",
     "output_type": "stream",
     "text": [
      "Logging hadn't been started.\n",
      "Activating auto-logging. Current session state plus future input saved.\n",
      "Filename       : C:\\Users\\lairde\\.qcodes\\logs\\command_history.log\n",
      "Mode           : append\n",
      "Output logging : True\n",
      "Raw input log  : False\n",
      "Timestamping   : True\n",
      "State          : active\n",
      "Qcodes Logfile : C:\\Users\\lairde\\.qcodes\\logs\\240827-26880-qcodes.log\n"
     ]
    }
   ],
   "source": [
    "import os\n",
    "\n",
    "from qcodes.dataset import (\n",
    "    do1d,\n",
    "    initialise_or_create_database_at,\n",
    "    load_or_create_experiment,\n",
    ")\n",
    "\n",
    "from qcodes.instrument_drivers.mock_instruments import (\n",
    "    DummyInstrument,\n",
    "    DummyInstrumentWithMeasurement,\n",
    ")\n",
    "\n",
    "# Turn on logging:\n",
    "qc.logger.start_all_logging()\n",
    "\n",
    "# Set up the station with the instrument:\n",
    "station = qc.Station()\n",
    "station.add_component(sg_1)\n",
    "\n",
    "# Set up a dummy DMM so that we can practise measuring later:\n",
    "dac = DummyInstrument('dac', gates=['ch1', 'ch2'])\n",
    "dmm = DummyInstrumentWithMeasurement('dmm', setter_instr=dac)\n",
    "station.add_component(dmm,dac)\n",
    "\n",
    "# Set up the database:\n",
    "db_file_path = os.path.join(os.getcwd(), 'Rigol_DSG3136B_demo_db.db')\n",
    "initialise_or_create_database_at(db_file_path)\n",
    "exp = load_or_create_experiment(experiment_name='Rigol_DSG3136B_demo_experiment', sample_name=\"no sample\")"
   ]
  },
  {
   "cell_type": "markdown",
   "metadata": {},
   "source": [
    "### Running a 1D scan\n",
    "Run the code below. You should see the power level changing on the front of the instrument. At the end a graph of dummy data will appear below."
   ]
  },
  {
   "cell_type": "code",
   "execution_count": 5,
   "metadata": {},
   "outputs": [
    {
     "name": "stdout",
     "output_type": "stream",
     "text": [
      "Starting experimental run with id: 16. Using 'qcodes.dataset.do1d'\n"
     ]
    },
    {
     "data": {
      "application/vnd.jupyter.widget-view+json": {
       "model_id": "afd6c02be7e84766975c3a94f108f455",
       "version_major": 2,
       "version_minor": 0
      },
      "text/plain": [
       "  0%|          | 0/21 [00:00<?, ?it/s]"
      ]
     },
     "metadata": {},
     "output_type": "display_data"
    },
    {
     "data": {
      "text/plain": [
       "(results #16@C:\\Users\\lairde\\OneDrive - Lancaster University\\OneDrive Documents\\Teaching\\My classes\\Python sandpit\\DSG3136B documentation\\Rigol_DSG3136B_demo_db.db\n",
       " ------------------------------------------------------------------------------------------------------------------------------------------------------------------\n",
       " r_3136B_1_level - numeric\n",
       " dmm_v1 - numeric,\n",
       " (<Axes: title={'center': 'Run #16, Experiment Rigol_DSG3136B_demo_experiment (no sample)'}, xlabel='Level (dBm)', ylabel='Gate v1 (V)'>,),\n",
       " (None,))"
      ]
     },
     "execution_count": 5,
     "metadata": {},
     "output_type": "execute_result"
    },
    {
     "data": {
      "image/png": "[encoded data removed]",
      "text/plain": [
       "<Figure size 640x480 with 1 Axes>"
      ]
     },
     "metadata": {},
     "output_type": "display_data"
    }
   ],
   "source": [
    "do1d(sg_1.level, -50, -20, 21, 0.1, dmm.v1, show_progress=True, do_plot=True)"
   ]
  },
  {
   "cell_type": "markdown",
   "metadata": {},
   "source": [
    "## Using the instrument's sweep mode\n",
    "Sweep mode is a faster way of stepping through a series of data points than setting frequency or power at every step. First you set up a list of sweep points, then you move through them in response to a trigger.\n",
    "To set up a sweep (e.g. here, from 1 GHz to 2 GHz in 11 steps) do:"
   ]
  },
  {
   "cell_type": "code",
   "execution_count": 6,
   "metadata": {},
   "outputs": [],
   "source": [
    "sg_1.sweep('FREQ')\n",
    "sg_1.sweep_type('STEP')\n",
    "sg_1.sweep_direction('FWD')\n",
    "sg_1.sweep_shape('RAMP')\n",
    "sg_1.sweep_frequency_start(1e9)\n",
    "sg_1.sweep_frequency_stop(2e9)\n",
    "sg_1.sweep_points(11)\n",
    "sg_1.sweep_mode('SING')\n",
    "sg_1.sweep_trigger('AUTO')\n",
    "sg_1.point_trigger('BUS')"
   ]
  },
  {
   "cell_type": "markdown",
   "metadata": {},
   "source": [
    "To run the sweep, do:"
   ]
  },
  {
   "cell_type": "code",
   "execution_count": 7,
   "metadata": {},
   "outputs": [],
   "source": [
    "sg_1.sweep_execute() # To start the sweep.\n",
    "sg_1.trigger()       # To step to the next point.\n",
    "time.sleep(2)        \n",
    "sg_1.trigger()       # And so on, with a delay if you want"
   ]
  },
  {
   "cell_type": "markdown",
   "metadata": {},
   "source": [
    "To restart the sweep, do:"
   ]
  },
  {
   "cell_type": "code",
   "execution_count": 8,
   "metadata": {},
   "outputs": [],
   "source": [
    "sg_1.sweep_reset()"
   ]
  },
  {
   "cell_type": "markdown",
   "metadata": {},
   "source": [
    "To go back from sweep to continuous output, execute"
   ]
  },
  {
   "cell_type": "code",
   "execution_count": 9,
   "metadata": {},
   "outputs": [],
   "source": [
    "sg_1.sweep('OFF')"
   ]
  },
  {
   "cell_type": "markdown",
   "metadata": {},
   "source": [
    "It would probably be possible to incorporate all of this into the `doNd()` routines, but I haven't tried this."
   ]
  },
  {
   "cell_type": "markdown",
   "metadata": {},
   "source": [
    "## Closing the connection\n",
    "After your work is complete, you can close the connection to the instrument with the following command."
   ]
  },
  {
   "cell_type": "code",
   "execution_count": 10,
   "metadata": {
    "scrolled": true
   },
   "outputs": [],
   "source": [
    "sg_1.close()"
   ]
  },
  {
   "cell_type": "code",
   "execution_count": null,
   "metadata": {},
   "outputs": [],
   "source": []
  }
 ],
 "metadata": {
  "kernelspec": {
   "display_name": "Python 3 (ipykernel)",
   "language": "python",
   "name": "python3"
  },
  "language_info": {
   "codemirror_mode": {
    "name": "ipython",
    "version": 3
   },
   "file_extension": ".py",
   "mimetype": "text/x-python",
   "name": "python",
   "nbconvert_exporter": "python",
   "pygments_lexer": "ipython3",
   "version": "3.12.4"
  },
  "nbsphinx": {
   "execute": "never"
  }
 },
 "nbformat": 4,
 "nbformat_minor": 4
}
