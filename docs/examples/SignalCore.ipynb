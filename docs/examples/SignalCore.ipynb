{
   "cells":[
      {
         "cell_type":"markdown",
         "metadata":{
            "nbsphinx":{
               "execute":"never"
            }
         },
         "source":[
            "# Example with the microwave source SC5521A from Signal Core"
         ]
      },
      {
         "cell_type":"code",
         "execution_count":1,
         "metadata":{
            
         },
         "outputs":[
            {
               "name":"stdout",
               "output_type":"stream",
               "text":[
                  "Logging hadn't been started.\n",
                  "Activating auto-logging. Current session state plus future input saved.\n",
                  "Filename       : C:\\Users\\ed261978\\.qcodes\\logs\\command_history.log\n",
                  "Mode           : append\n",
                  "Output logging : True\n",
                  "Raw input log  : False\n",
                  "Timestamping   : True\n",
                  "State          : active\n",
                  "Qcodes Logfile : C:\\Users\\ed261978\\.qcodes\\logs\\210604-4564-qcodes.log\n"
               ]
            }
         ],
         "source":[
            "import qcodes as qc\n",
            "from qcodes_contrib_drivers.drivers.SignalCore.SignalCore import SC5521A"
         ]
      },
      {
         "cell_type":"markdown",
         "metadata":{
            
         },
         "source":[
            "# Device connection\n",
            "\n",
            "1. Install the set-up software for your device and computer architecture here: https://www.signalcore.com/40ghz_signal-source.html\n",
            "2. This will install the needed DLL in the default path: `C:\\Program Files\\SignalCore\\SC5520A\\api\\c\\scipci\\x64\\sc5520a_uhfs.dll`.\n",
            "3. The driver will automatically recognize and connect to the signal core connected to the computer."
         ]
      },
      {
         "cell_type":"code",
         "execution_count":2,
         "metadata":{
            
         },
         "outputs":[
            {
               "name":"stdout",
               "output_type":"stream",
               "text":[
                  "Connected to: SignalCore SC5521A (serial:268445854, firmware:2.0199999809265137) in 0.06s\n"
               ]
            }
         ],
         "source":[
            "sc = SC5521A('mw1')"
         ]
      },
      {
         "cell_type":"code",
         "execution_count":3,
         "metadata":{
            
         },
         "outputs":[
            {
               "name":"stdout",
               "output_type":"stream",
               "text":[
                  "mw1:\n",
                  "\tparameter      value\n",
                  "--------------------------------------------------------------------------------\n",
                  "IDN             :\t{'vendor': 'SignalCore', 'model': 'SC5521A', 'serial': 2684...\n",
                  "clock_frequency :\t100 (MHz)\n",
                  "clock_reference :\tinternal \n",
                  "frequency       :\t5e+08 (Hz)\n",
                  "power           :\t0 (dbm)\n",
                  "rf_mode         :\tsingle_tone \n",
                  "status          :\ton \n",
                  "temperature     :\t45.406 (celsius)\n"
               ]
            }
         ],
         "source":[
            "sc.print_readable_snapshot(update=True)"
         ]
      },
      {
         "cell_type":"code",
         "execution_count":4,
         "metadata":{
            
         },
         "outputs":[
            {
               "data":{
                  "text/plain":[
                     "{'vendor': 'SignalCore',\n",
                     " 'model': 'SC5521A',\n",
                     " 'serial': 268445854,\n",
                     " 'firmware': 2.0199999809265137,\n",
                     " 'hardware': 5.0,\n",
                     " 'manufacture_date': '2021-3-12 at 11h'}"
                  ]
               },
               "execution_count":4,
               "metadata":{
                  
               },
               "output_type":"execute_result"
            }
         ],
         "source":[
            "sc.get_idn()"
         ]
      },
      {
         "cell_type":"markdown",
         "metadata":{
            
         },
         "source":[
            "# Set parameters"
         ]
      },
      {
         "cell_type":"code",
         "execution_count":5,
         "metadata":{
            
         },
         "outputs":[
            
         ],
         "source":[
            "sc.frequency(10e9)"
         ]
      },
      {
         "cell_type":"code",
         "execution_count":6,
         "metadata":{
            
         },
         "outputs":[
            {
               "data":{
                  "text/plain":[
                     "10000000000.0"
                  ]
               },
               "execution_count":6,
               "metadata":{
                  
               },
               "output_type":"execute_result"
            }
         ],
         "source":[
            "sc.frequency()"
         ]
      },
      {
         "cell_type":"code",
         "execution_count":14,
         "metadata":{
            
         },
         "outputs":[
            
         ],
         "source":[
            "sc.power(-10)"
         ]
      },
      {
         "cell_type":"code",
         "execution_count":15,
         "metadata":{
            
         },
         "outputs":[
            {
               "data":{
                  "text/plain":[
                     "-10.0"
                  ]
               },
               "execution_count":15,
               "metadata":{
                  
               },
               "output_type":"execute_result"
            }
         ],
         "source":[
            "sc.power()"
         ]
      }
   ],
   "metadata":{
      "kernelspec":{
         "display_name":"Python 3",
         "language":"python",
         "name":"python3"
      },
      "nbsphinx":{
         "execute":"never"
      },
      "language_info":{
         "codemirror_mode":{
            "name":"ipython",
            "version":3
         },
         "file_extension":".py",
         "mimetype":"text/x-python",
         "name":"python",
         "nbconvert_exporter":"python",
         "pygments_lexer":"ipython3",
         "version":"3.7.9"
      }
   },
   "nbformat":4,
   "nbformat_minor":4
}
