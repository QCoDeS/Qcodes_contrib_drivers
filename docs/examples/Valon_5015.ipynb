{
 "cells": [
  {
   "cell_type": "markdown",
   "metadata": {},
   "source": [
    "# QCoDeS example with Valon 5015"
   ]
  },
  {
   "cell_type": "markdown",
   "metadata": {},
   "source": [
    "The Valon 5015 frequency synthesizer uses multiple phase lock loops to provide exceptionally low phase noise over the 10MHz to 15GHz range.  The multiple loop technique also greatly reduced spurs while providing high resolution tuning precision. Calibrated output power may be accurately set from +13dBm down to -30dBm in 0.1dB steps."
   ]
  },
  {
   "cell_type": "code",
   "execution_count": null,
   "metadata": {},
   "outputs": [],
   "source": [
    "from qcodes_contrib_drivers.drivers.Valon.Valon_5015 import Valon5015"
   ]
  },
  {
   "cell_type": "markdown",
   "metadata": {},
   "source": [
    "Be sure to specify the correct IP address in the constructor. If the driver cannot find the device, a VisaIOError is raised."
   ]
  },
  {
   "cell_type": "code",
   "execution_count": 2,
   "metadata": {},
   "outputs": [],
   "source": [
    "ip = \"192.168.0.3\"\n",
    "valon = Valon5015(name=\"Valon\", address=f\"TCPIP0::{ip}::23::SOCKET\")"
   ]
  },
  {
   "cell_type": "markdown",
   "metadata": {},
   "source": [
    "Get status of the device:"
   ]
  },
  {
   "cell_type": "code",
   "execution_count": 3,
   "metadata": {},
   "outputs": [
    {
     "name": "stdout",
     "output_type": "stream",
     "text": [
      "Valon Technology, 5015, 12203435, R6  version 1.3c   Build: May  8 2023  17:01:59\n",
      "      VBAT = 1223   5.911 V\n",
      "      IBAT =  336   0.108 Amps  0.638 Watts\n",
      "      UPTS = 1725    21.9 C\n",
      "       +5V =    0   0.000 V\n",
      "       -5V = 3654   0.451 V\n",
      "   +3.3VRF =  121   0.194 V\n",
      "   +3.3V   =   30   0.048 V\n",
      "        LM =   31   11111\n",
      "  uP clock =   72 MHz\n",
      "       UID = 43194144 34555430 05d4ff35  REV_ID,DEV_ID=10016418  CR=0x0\n",
      "FLASH size =  256k\n",
      "  Max freq = 15 GHz\n"
     ]
    }
   ],
   "source": [
    "status = valon.status()\n",
    "print(status)"
   ]
  },
  {
   "cell_type": "markdown",
   "metadata": {},
   "source": [
    "Get the device identifying string:"
   ]
  },
  {
   "cell_type": "code",
   "execution_count": 4,
   "metadata": {},
   "outputs": [
    {
     "name": "stdout",
     "output_type": "stream",
     "text": [
      "Valon Technology, 5015, 12203435, R6  version 1.3c   Build: May  8 2023  17:01:59\n"
     ]
    }
   ],
   "source": [
    "id = valon.id()\n",
    "print(id)"
   ]
  },
  {
   "cell_type": "markdown",
   "metadata": {},
   "source": [
    "Set device parameters:"
   ]
  },
  {
   "cell_type": "code",
   "execution_count": 5,
   "metadata": {},
   "outputs": [],
   "source": [
    "valon.frequency(10e6)\n",
    "valon.offset(100.5)\n",
    "valon.power(0.5)\n",
    "valon.modulation_db(0.5)\n",
    "valon.modulation_frequency(100)\n",
    "valon.low_power_mode_enabled(True)\n",
    "valon.buffer_amplifiers_enabled(True)"
   ]
  },
  {
   "cell_type": "markdown",
   "metadata": {},
   "source": [
    "Retrieve device parameters:"
   ]
  },
  {
   "cell_type": "code",
   "execution_count": 6,
   "metadata": {},
   "outputs": [
    {
     "name": "stdout",
     "output_type": "stream",
     "text": [
      "Frequency:  10000000.0\n",
      "Offset:  100.0\n",
      "Power:  0.5\n",
      "Modulation dB:  0.5\n",
      "Modulation Frequency:  10.0\n",
      "Low Power Mode Enabled:  True\n",
      "Buffer Amplifiers Enabled:  True\n"
     ]
    }
   ],
   "source": [
    "frequency = valon.frequency()\n",
    "offset = valon.offset()\n",
    "power = valon.power()\n",
    "modulation_db = valon.modulation_db()\n",
    "modulation_frequency = valon.modulation_frequency()\n",
    "low_power_mode_enabled = valon.low_power_mode_enabled()\n",
    "buffer_amplifiers_enabled = valon.buffer_amplifiers_enabled()\n",
    "\n",
    "print(\"Frequency: \", frequency)\n",
    "print(\"Offset: \", offset)\n",
    "print(\"Power: \", power)\n",
    "print(\"Modulation dB: \", modulation_db)\n",
    "print(\"Modulation Frequency: \", modulation_frequency)\n",
    "print(\"Low Power Mode Enabled: \", low_power_mode_enabled)\n",
    "print(\"Buffer Amplifiers Enabled: \", buffer_amplifiers_enabled)\n"
   ]
  }
 ],
 "metadata": {
  "kernelspec": {
   "display_name": "qcodes-dev",
   "language": "python",
   "name": "python3"
  },
  "language_info": {
   "codemirror_mode": {
    "name": "ipython",
    "version": 3
   },
   "file_extension": ".py",
   "mimetype": "text/x-python",
   "name": "python",
   "nbconvert_exporter": "python",
   "pygments_lexer": "ipython3",
   "version": "3.10.13"
  },
  "nbsphinx": {
    "execute": "never"
  }
 },
 "nbformat": 4,
 "nbformat_minor": 2
}
