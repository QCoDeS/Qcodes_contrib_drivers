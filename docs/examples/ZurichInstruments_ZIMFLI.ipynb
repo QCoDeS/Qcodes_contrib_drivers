{
 "cells": [
  {
   "cell_type": "markdown",
   "metadata": {},
   "source": [
    "# QCodes driver for the ZurichInstruments MFLI Lock-in Amplifier\n",
    "## You have to install the Libraray from ZI. If this is not done, the driver will change to simulation mode automatically."
   ]
  },
  {
   "cell_type": "code",
   "execution_count": 5,
   "metadata": {},
   "outputs": [],
   "source": [
    "from qcodes.instrument_drivers.ZI.ZIMFLI import ZIMFLI"
   ]
  },
  {
   "cell_type": "markdown",
   "metadata": {},
   "source": [
    "Be sure that you note the correct device ID in the constructor. This ID can be found with the ZurichInstrument DeviceFinder. Due to programming there will be a warning from QCoDeS: \"Wrapping get method, original get method will not be directly accessible. It is recommended to define get_raw in your subclass instead.\". You can ignore this."
   ]
  },
  {
   "cell_type": "code",
   "execution_count": 6,
   "metadata": {},
   "outputs": [
    {
     "name": "stdout",
     "output_type": "stream",
     "text": [
      "*** Use SIMULATION mode ***\n",
      "DBG: ZIMFLIsweeper(): Set  device = DEV4039\n",
      "DBG: ZIMFLIsweeper(): Set  start = 1000000.0\n",
      "DBG: ZIMFLIsweeper(): Set  stop = 10000000.0\n",
      "DBG: ZIMFLIsweeper(): Set  samplecount = 25\n",
      "DBG: ZIMFLIsweeper(): Set  bandwidthcontrol = 1\n",
      "DBG: ZIMFLIsweeper(): Set  bandwidth = 50\n",
      "DBG: ZIMFLIsweeper(): Set  gridnode = oscs/0/freq\n",
      "DBG: ZIMFLIsweeper(): Set  scan = 0\n",
      "DBG: ZIMFLIsweeper(): Set  order = 1\n",
      "DBG: ZIMFLIsweeper(): Set  settling/time = 1e-06\n",
      "DBG: ZIMFLIsweeper(): Set  settling/inaccuracy = 0.01\n",
      "DBG: ZIMFLIsweeper(): Set  averaging/sample = 25\n",
      "DBG: ZIMFLIsweeper(): Set  averaging/tc = 0.1\n",
      "DBG: ZIMFLIsweeper(): Set  xmapping = 0\n"
     ]
    }
   ],
   "source": [
    "zidev = ZIMFLI( name='ZIMFLI', device_ID='DEV4039' )"
   ]
  },
  {
   "cell_type": "markdown",
   "metadata": {},
   "source": [
    "Print the current version information read from the device as a dict."
   ]
  },
  {
   "cell_type": "code",
   "execution_count": 8,
   "metadata": {},
   "outputs": [
    {
     "name": "stdout",
     "output_type": "stream",
     "text": [
      "{'DevType': 'MFLI', 'Options': 'F5M', 'Serial': '4039', 'DevTime': '31.01.2020 09:40:09', 'Owner': 'FZJ', 'FPGARev': 52856, 'DevFWRev': 53700, 'BoardRev1': '0', 'Copyright': '(c) 2008-2018 Zurich Instruments AG', 'Dataserver': 'Simulation', 'ZI_FWRev': 0, 'ZIRevision': 54618, 'Version': '0.1'}\n"
     ]
    }
   ],
   "source": [
    "print( zidev.version() )"
   ]
  },
  {
   "cell_type": "markdown",
   "metadata": {},
   "source": [
    "The following code will retrieve some values from the external reference channel"
   ]
  },
  {
   "cell_type": "code",
   "execution_count": 9,
   "metadata": {},
   "outputs": [
    {
     "name": "stdout",
     "output_type": "stream",
     "text": [
      "Signalin: Sig In 1\n",
      "Bandwidth: None\n",
      "Channel: 0\n",
      "Enable: OFF\n",
      "Locked: 0\n",
      "OscSelect: 0\n"
     ]
    }
   ],
   "source": [
    "er = zidev.submodules['extref1']\n",
    "print( \"Signalin:\", er.signalin() )\n",
    "print( \"Bandwidth:\", er.bandwidth() )\n",
    "print( \"Channel:\", er.channel() )\n",
    "print( \"Enable:\", er.enable() )\n",
    "print( \"Locked:\", er.locked() )\n",
    "print( \"OscSelect:\", er.oscselect() )"
   ]
  },
  {
   "cell_type": "markdown",
   "metadata": {},
   "source": [
    "Select first oscillator and get some informations of the first demodulator"
   ]
  },
  {
   "cell_type": "code",
   "execution_count": 10,
   "metadata": {},
   "outputs": [
    {
     "name": "stdout",
     "output_type": "stream",
     "text": [
      "freuqency of demodulator1: 100000\n",
      "                Signal in: Sig In 1\n",
      "       x  of demodualtor1: 1\n",
      "       y  of demodulator1: 2\n",
      "       R  of demodulator1: 2.23606797749979\n",
      "      phi of demodualtor1: 63.43494882292201\n"
     ]
    }
   ],
   "source": [
    "dm1 = zidev.submodules[\"demod1\"]\n",
    "dm1.oscselect(0)\n",
    "print(\"freuqency of demodulator1:\", dm1.frequency())\n",
    "print(\"                Signal in:\", dm1.signalin())\n",
    "print(\"       x  of demodualtor1:\", dm1.x())\n",
    "print(\"       y  of demodulator1:\", dm1.y())\n",
    "print(\"       R  of demodulator1:\", dm1.R())\n",
    "print(\"      phi of demodualtor1:\", dm1.phi())"
   ]
  },
  {
   "cell_type": "markdown",
   "metadata": {},
   "source": [
    "Close the device at the end of the script"
   ]
  },
  {
   "cell_type": "code",
   "execution_count": 11,
   "metadata": {},
   "outputs": [],
   "source": [
    "zidev.close()"
   ]
  }
 ],
 "metadata": {
  "kernelspec": {
   "display_name": "Python 3",
   "language": "python",
   "name": "python3"
  },
  "language_info": {
   "codemirror_mode": {
    "name": "ipython",
    "version": 3
   },
   "file_extension": ".py",
   "mimetype": "text/x-python",
   "name": "python",
   "nbconvert_exporter": "python",
   "pygments_lexer": "ipython3",
   "version": "3.6.7"
  },
  "nbsphinx": {
   "execute": "never"
  }
 },
 "nbformat": 4,
 "nbformat_minor": 2
}
