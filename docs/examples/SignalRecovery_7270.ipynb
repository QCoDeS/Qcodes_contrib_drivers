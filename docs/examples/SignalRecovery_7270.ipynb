{
 "cells": [
  {
   "cell_type": "markdown",
   "metadata": {},
   "source": [
    "# Example of Signal Recovery 7270 driver usage"
   ]
  },
  {
   "cell_type": "code",
   "execution_count": null,
   "metadata": {
    "ExecuteTime": {
     "start_time": "2022-01-07T13:14:27.329Z"
    }
   },
   "outputs": [],
   "source": [
    "\"\"\"\n",
    "General driver notes:\n",
    "\n",
    "With the SR_7270 read commands end with the echo \"\\n\\x00\",\n",
    "and write commands return only \"\\x00\".\n",
    "\n",
    "ask_raw function has been rewritten to read echo to remove from buffer.\n",
    "write_raw function has been rewritten to also read after writing using ask_raw.\n",
    "\n",
    "Get commands ending with . as in 'X.' are known as floating point in manual.\n",
    "\n",
    "Never change noise mode as TC values will not be correct.\n",
    "(If you want to change this then the driver will need to updated.)\n",
    "\n",
    "Change Imode for measuring current vs voltage using:\n",
    "'CURRENT_MODE_OFF', 'CURRENT_MODE_ON_HIGH_BW', 'CURRENT_MODE_ON_LOW_BW\n",
    "\n",
    "Change Vmode for measuring A, -B or A - B voltages using\n",
    "'INPUTS_GNDED', 'A_INPUT_ONLY', '-B_INPUT_ONLY', 'A_B_DIFFERENTIAL'\n",
    "\n",
    "Reference frequency is set by INT, EXT_REAR or EXT_FRONT.\n",
    "If in mode INT then oscillator frequency changes reference frequency.\n",
    "Otherwise, reference frequency controlled by input.\n",
    "\n",
    "\"\"\""
   ]
  },
  {
   "cell_type": "code",
   "execution_count": 1,
   "metadata": {
    "ExecuteTime": {
     "end_time": "2022-01-07T13:34:50.678041Z",
     "start_time": "2022-01-07T13:34:49.347775Z"
    }
   },
   "outputs": [],
   "source": [
    "import qcodes as qc\n",
    "from qcodes import Station, load_or_create_experiment, \\\n",
    "    initialise_database, Measurement\n",
    "from qcodes.dataset.plotting import plot_by_id\n",
    "from qcodes.utils.dataset.doNd import do1d"
   ]
  },
  {
   "cell_type": "markdown",
   "metadata": {},
   "source": [
    "# Connect to device"
   ]
  },
  {
   "cell_type": "code",
   "execution_count": 2,
   "metadata": {
    "ExecuteTime": {
     "end_time": "2022-01-07T13:34:58.010507Z",
     "start_time": "2022-01-07T13:34:53.669639Z"
    }
   },
   "outputs": [],
   "source": [
    "import qcodes_contrib_drivers.drivers.Ametek.SR_7270 as SR_7270\n",
    "SR = SR_7270.Signalrecovery7270('SR', address='USB0::0x0A2D::0x001B::13086379::RAW')"
   ]
  },
  {
   "cell_type": "code",
   "execution_count": 3,
   "metadata": {
    "ExecuteTime": {
     "end_time": "2022-01-07T13:34:58.435592Z",
     "start_time": "2022-01-07T13:34:58.416588Z"
    }
   },
   "outputs": [
    {
     "name": "stdout",
     "output_type": "stream",
     "text": [
      "SR:\n",
      "\tparameter    value\n",
      "--------------------------------------------------------------------------------\n",
      "IDN           :\t{'vendor': '', 'model': None, 'serial': None, 'firmware': None} \n",
      "I_mode        :\tCURRENT_MODE_OFF \n",
      "R             :\t0 (V)\n",
      "V_mode        :\tA_INPUT_ONLY \n",
      "X             :\t0 (V)\n",
      "XY            :\t0j (V)\n",
      "Y             :\t0 (V)\n",
      "get_frequency :\t77 (Hz)\n",
      "noise_mode    :\tOFF \n",
      "osc_amplitude :\t0 (V)\n",
      "osc_frequency :\t77 (Hz)\n",
      "phase         :\t-180 (Degrees)\n",
      "reference     :\tINT \n",
      "sensitivity   :\t0.1 (V)\n",
      "timeconstant  :\t0.1 (s)\n",
      "timeout       :\t5 (s)\n"
     ]
    }
   ],
   "source": [
    "SR.print_readable_snapshot(update=True)"
   ]
  },
  {
   "cell_type": "markdown",
   "metadata": {},
   "source": [
    "# Setup db and station for test measurerment"
   ]
  },
  {
   "cell_type": "code",
   "execution_count": 5,
   "metadata": {
    "ExecuteTime": {
     "end_time": "2022-01-06T11:10:31.979988Z",
     "start_time": "2022-01-06T11:10:31.924988Z"
    }
   },
   "outputs": [],
   "source": [
    "# create an empty database based on the config file\n",
    "qc.initialise_or_create_database_at('./test_signal_recovery_7270.db')"
   ]
  },
  {
   "cell_type": "code",
   "execution_count": 6,
   "metadata": {
    "ExecuteTime": {
     "end_time": "2022-01-06T11:10:32.064988Z",
     "start_time": "2022-01-06T11:10:32.059988Z"
    }
   },
   "outputs": [],
   "source": [
    "exp = load_or_create_experiment(experiment_name='test_signal_recovery_7270',\n",
    "                          sample_name=\"output2input\")"
   ]
  },
  {
   "cell_type": "code",
   "execution_count": 7,
   "metadata": {
    "ExecuteTime": {
     "end_time": "2022-01-06T11:10:32.446988Z",
     "start_time": "2022-01-06T11:10:32.437988Z"
    }
   },
   "outputs": [],
   "source": [
    "station = qc.Station(SR)"
   ]
  },
  {
   "cell_type": "code",
   "execution_count": 8,
   "metadata": {
    "ExecuteTime": {
     "end_time": "2022-01-06T11:10:33.007988Z",
     "start_time": "2022-01-06T11:10:32.822988Z"
    }
   },
   "outputs": [
    {
     "name": "stdout",
     "output_type": "stream",
     "text": [
      "Reference frequency is 77.0 Hz\n",
      "Oscillator frequency is 77.0 Hz\n"
     ]
    }
   ],
   "source": [
    "# Output is directly connect to A input\n",
    "SR.reference('INT')\n",
    "SR.Imode('CURRENT_MODE_OFF')\n",
    "SR.Vmode('A_INPUT_ONLY')\n",
    "SR.osc_frequency(77)\n",
    "print('Reference frequency is ' + str(SR.getfrequency()) + ' Hz' )\n",
    "print('Oscillator frequency is ' + str(SR.osc_frequency()) + ' Hz')\n",
    "SR.sensitivity(.1)\n",
    "SR.timeconstant(.1)"
   ]
  },
  {
   "cell_type": "code",
   "execution_count": 9,
   "metadata": {
    "ExecuteTime": {
     "end_time": "2022-01-06T11:10:33.416988Z",
     "start_time": "2022-01-06T11:10:33.412988Z"
    }
   },
   "outputs": [],
   "source": [
    "In_R = qc.ScaledParameter(SR.R, gain=1, name='R', unit='V')\n",
    "In_phase = qc.ScaledParameter(SR.phase, gain=1, name='phase', unit='degrees')\n",
    "\n",
    "output = qc.ScaledParameter(SR.osc_amplitude, gain=1, name='output', unit='V')  "
   ]
  },
  {
   "cell_type": "code",
   "execution_count": 10,
   "metadata": {
    "ExecuteTime": {
     "end_time": "2022-01-06T11:10:49.612988Z",
     "start_time": "2022-01-06T11:10:47.866988Z"
    }
   },
   "outputs": [
    {
     "name": "stdout",
     "output_type": "stream",
     "text": [
      "Starting experimental run with id: 15. Using 'qcodes.utils.dataset.doNd.do1d'\n"
     ]
    },
    {
     "data": {
      "text/plain": [
       "(output_varied #15@C:\\Users\\g-gre-gre050342\\Qcodes_contrib_drivers\\docs\\examples\\test_signal_recovery_7270.db\n",
       " ------------------------------------------------------------------------------------------------------------\n",
       " output - numeric\n",
       " R - numeric\n",
       " phase - numeric,\n",
       " [<AxesSubplot:title={'center':'Run #15, Experiment test_signal_recovery_7270 (output2input)'}, xlabel='output (mV)', ylabel='R (mV)'>,\n",
       "  <AxesSubplot:title={'center':'Run #15, Experiment test_signal_recovery_7270 (output2input)'}, xlabel='output (mV)', ylabel='phase (degrees)'>],\n",
       " [None, None])"
      ]
     },
     "execution_count": 10,
     "metadata": {},
     "output_type": "execute_result"
    },
    {
     "data": {
      "image/png": "[encoded data removed]",
      "text/plain": [
       "<Figure size 432x288 with 1 Axes>"
      ]
     },
     "metadata": {
      "needs_background": "light"
     },
     "output_type": "display_data"
    },
    {
     "data": {
      "image/png": "[encoded data removed]",
      "text/plain": [
       "<Figure size 432x288 with 1 Axes>"
      ]
     },
     "metadata": {
      "needs_background": "light"
     },
     "output_type": "display_data"
    }
   ],
   "source": [
    "do1d(output, .05, .06, 51, 0, In_R, In_phase, do_plot = True,measurement_name='output_varied')"
   ]
  },
  {
   "cell_type": "code",
   "execution_count": 24,
   "metadata": {
    "ExecuteTime": {
     "end_time": "2022-01-07T09:30:40.632988Z",
     "start_time": "2022-01-07T09:30:40.624988Z"
    }
   },
   "outputs": [],
   "source": [
    "SR.osc_amplitude(0)"
   ]
  },
  {
   "cell_type": "code",
   "execution_count": null,
   "metadata": {},
   "outputs": [],
   "source": []
  }
 ],
 "metadata": {
  "kernelspec": {
   "display_name": "Python 3 (ipykernel)",
   "language": "python",
   "name": "python3"
  },
  "language_info": {
   "codemirror_mode": {
    "name": "ipython",
    "version": 3
   },
   "file_extension": ".py",
   "mimetype": "text/x-python",
   "name": "python",
   "nbconvert_exporter": "python",
   "pygments_lexer": "ipython3",
   "version": "3.8.10"
  },
  "toc": {
   "base_numbering": 1,
   "nav_menu": {},
   "number_sections": true,
   "sideBar": true,
   "skip_h1_title": false,
   "title_cell": "Table of Contents",
   "title_sidebar": "Contents",
   "toc_cell": false,
   "toc_position": {},
   "toc_section_display": true,
   "toc_window_display": false
  },
  "varInspector": {
   "cols": {
    "lenName": 16,
    "lenType": 16,
    "lenVar": 40
   },
   "kernels_config": {
    "python": {
     "delete_cmd_postfix": "",
     "delete_cmd_prefix": "del ",
     "library": "var_list.py",
     "varRefreshCmd": "print(var_dic_list())"
    },
    "r": {
     "delete_cmd_postfix": ") ",
     "delete_cmd_prefix": "rm(",
     "library": "var_list.r",
     "varRefreshCmd": "cat(var_dic_list()) "
    }
   },
   "types_to_exclude": [
    "module",
    "function",
    "builtin_function_or_method",
    "instance",
    "_Feature"
   ],
   "window_display": false
  }
 },
 "nbformat": 4,
 "nbformat_minor": 4
}
