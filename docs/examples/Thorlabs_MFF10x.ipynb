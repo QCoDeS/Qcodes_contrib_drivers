{
 "cells": [
  {
   "cell_type": "markdown",
   "metadata": {},
   "source": [
    "# Qcodes example with Thorlabs MFF10x"
   ]
  },
  {
   "cell_type": "code",
   "execution_count": 1,
   "metadata": {
    "ExecuteTime": {
     "end_time": "2019-03-04T16:30:18.954636Z",
     "start_time": "2019-03-04T16:30:17.404651Z"
    }
   },
   "outputs": [],
   "source": [
    "from qcodes_contrib_drivers.drivers.Thorlabs.APT import Thorlabs_APT\n",
    "from qcodes_contrib_drivers.drivers.Thorlabs.MFF10x import Thorlabs_MFF10x"
   ]
  },
  {
   "cell_type": "markdown",
   "metadata": {},
   "source": [
    "## Initialize the instrument\n",
    "First, we need to initialize the APT server. Then we can initialize the MFF10x mirror flipper."
   ]
  },
  {
   "cell_type": "code",
   "execution_count": 2,
   "metadata": {
    "ExecuteTime": {
     "end_time": "2019-03-04T16:30:25.194573Z",
     "start_time": "2019-03-04T16:30:20.054625Z"
    }
   },
   "outputs": [],
   "source": [
    "apt = Thorlabs_APT()"
   ]
  },
  {
   "cell_type": "code",
   "execution_count": 3,
   "metadata": {
    "ExecuteTime": {
     "end_time": "2019-03-04T16:30:25.974566Z",
     "start_time": "2019-03-04T16:30:25.924566Z"
    }
   },
   "outputs": [
    {
     "name": "stdout",
     "output_type": "stream",
     "text": [
      "Connected to: Thorlabs MFF002 (serial:37864181, firmware:SW Version 1.0.3) in 0.02s\n"
     ]
    }
   ],
   "source": [
    "thorlabs_mff10x = Thorlabs_MFF10x(\"Thorlabs_MFF10x\", 0, apt)"
   ]
  },
  {
   "cell_type": "markdown",
   "metadata": {},
   "source": [
    "## Read the current position\n",
    "We read the current position of the mirror flipper."
   ]
  },
  {
   "cell_type": "code",
   "execution_count": 4,
   "metadata": {
    "ExecuteTime": {
     "end_time": "2019-03-04T16:30:27.544550Z",
     "start_time": "2019-03-04T16:30:27.504550Z"
    }
   },
   "outputs": [
    {
     "data": {
      "text/plain": [
       "0"
      ]
     },
     "execution_count": 4,
     "metadata": {},
     "output_type": "execute_result"
    }
   ],
   "source": [
    "thorlabs_mff10x.position.get()"
   ]
  },
  {
   "cell_type": "markdown",
   "metadata": {},
   "source": [
    "## Change the position\n",
    "We change the position of the flip mirror and repeat the position reading."
   ]
  },
  {
   "cell_type": "code",
   "execution_count": 5,
   "metadata": {
    "ExecuteTime": {
     "end_time": "2019-03-04T16:30:31.604509Z",
     "start_time": "2019-03-04T16:30:31.584509Z"
    }
   },
   "outputs": [],
   "source": [
    "thorlabs_mff10x.position.set(1)"
   ]
  },
  {
   "cell_type": "code",
   "execution_count": 6,
   "metadata": {
    "ExecuteTime": {
     "end_time": "2019-03-04T16:30:32.514500Z",
     "start_time": "2019-03-04T16:30:32.484500Z"
    }
   },
   "outputs": [
    {
     "data": {
      "text/plain": [
       "1"
      ]
     },
     "execution_count": 6,
     "metadata": {},
     "output_type": "execute_result"
    }
   ],
   "source": [
    "thorlabs_mff10x.position.get()"
   ]
  },
  {
   "cell_type": "markdown",
   "metadata": {},
   "source": [
    "## Close instrument"
   ]
  },
  {
   "cell_type": "code",
   "execution_count": 7,
   "metadata": {
    "ExecuteTime": {
     "end_time": "2019-03-04T16:30:36.334462Z",
     "start_time": "2019-03-04T16:30:35.794467Z"
    }
   },
   "outputs": [],
   "source": [
    "thorlabs_mff10x.close()\n",
    "apt.apt_clean_up()"
   ]
  }
 ],
 "metadata": {
  "hide_input": false,
  "kernelspec": {
   "display_name": "qcodespip311",
   "language": "python",
   "name": "python3"
  },
  "language_info": {
   "codemirror_mode": {
    "name": "ipython",
    "version": 3
   },
   "file_extension": ".py",
   "mimetype": "text/x-python",
   "name": "python",
   "nbconvert_exporter": "python",
   "pygments_lexer": "ipython3",
   "version": "3.11.0 | packaged by conda-forge | (main, Jan 16 2023, 14:12:30) [MSC v.1916 64 bit (AMD64)]"
  },
  "nbsphinx": {
   "execute": "never"
  },
  "toc": {
   "base_numbering": 1,
   "nav_menu": {},
   "number_sections": true,
   "sideBar": true,
   "skip_h1_title": false,
   "title_cell": "Table of Contents",
   "title_sidebar": "Contents",
   "toc_cell": false,
   "toc_position": {},
   "toc_section_display": true,
   "toc_window_display": false
  },
  "varInspector": {
   "cols": {
    "lenName": 16,
    "lenType": 16,
    "lenVar": 40
   },
   "kernels_config": {
    "python": {
     "delete_cmd_postfix": "",
     "delete_cmd_prefix": "del ",
     "library": "var_list.py",
     "varRefreshCmd": "print(var_dic_list())"
    },
    "r": {
     "delete_cmd_postfix": ") ",
     "delete_cmd_prefix": "rm(",
     "library": "var_list.r",
     "varRefreshCmd": "cat(var_dic_list()) "
    }
   },
   "types_to_exclude": [
    "module",
    "function",
    "builtin_function_or_method",
    "instance",
    "_Feature"
   ],
   "window_display": false
  },
  "vscode": {
   "interpreter": {
    "hash": "7ac3e91929df5618782934af11c3fa566d637713ed5d04bf73eff1f535fb8e06"
   }
  }
 },
 "nbformat": 4,
 "nbformat_minor": 2
}
