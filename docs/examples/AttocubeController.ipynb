{
 "cells": [
  {
   "cell_type": "code",
   "execution_count": null,
   "metadata": {},
   "outputs": [],
   "source": [
    "from qcodes_contrib_drivers.drivers.Attocube.AttocubeController import ANC300"
   ]
  },
  {
   "cell_type": "code",
   "execution_count": null,
   "metadata": {},
   "outputs": [],
   "source": [
    "atto_config = {\n",
    "    'name': 'atto',\n",
    "    'model': 'ANC300',\n",
    "    \"address\": \"ASRL1::INSTR\",\n",
    "    'timeout': 5,\n",
    "    'terminator': '\\r\\n',\n",
    "    'baud_rate' : 38400,\n",
    "    'axes': {'x': 1, 'y': 2, 'z': 3}, # {axis_name: controller_output}\n",
    "    'voltage_limits': {\n",
    "        'RT': {'x': 25, 'y': 25, 'z': 25}, # room temperature limits, V\n",
    "        'LT': {'x': 60, 'y': 60, 'z': 60} # low temperature limits, V\n",
    "    },\n",
    "    'default_frequency': {'x': 100, 'y': 100, 'z': 100}, # stepping frequency, Hz\n",
    "}"
   ]
  },
  {
   "cell_type": "code",
   "execution_count": null,
   "metadata": {},
   "outputs": [],
   "source": [
    "temperature_mode = 'RT' # lower voltage limit when operating at room temperature\n",
    "atto = ANC300(atto_config, temperature_mode)"
   ]
  },
  {
   "cell_type": "markdown",
   "metadata": {},
   "source": [
    "Measure capacitance for all three axes:"
   ]
  },
  {
   "cell_type": "code",
   "execution_count": null,
   "metadata": {},
   "outputs": [],
   "source": [
    "print(atto.cap_ax1())\n",
    "print(atto.cap_ax2())\n",
    "print(atto.cap_ax3())"
   ]
  },
  {
   "cell_type": "markdown",
   "metadata": {},
   "source": [
    "Move 50 steps in the -z direction, then move 100 steps in the +x direction:"
   ]
  },
  {
   "cell_type": "code",
   "execution_count": null,
   "metadata": {},
   "outputs": [],
   "source": [
    "atto.step('z', -50)\n",
    "atto.step('x', 100)\n",
    "# or:\n",
    "# atto.step(3, -50)\n",
    "# atto.step(1, 100)"
   ]
  },
  {
   "cell_type": "markdown",
   "metadata": {},
   "source": [
    "Change the stepping frequency for all three axes:"
   ]
  },
  {
   "cell_type": "code",
   "execution_count": null,
   "metadata": {},
   "outputs": [],
   "source": [
    "new_freq = 400 # Hz\n",
    "for ax, idx in atto.axes.items():\n",
    "    param = getattr(atto, 'freq_ax{}'.format(idx))\n",
    "    old_freq = param()\n",
    "    param(new_freq)\n",
    "    print('Changed axis {ax} frequency from {old} Hz to {new} Hz'.format(ax=ax, old=old_freq, new=param()))"
   ]
  },
  {
   "cell_type": "code",
   "execution_count": null,
   "metadata": {},
   "outputs": [],
   "source": [
    "atto.metadata['history']"
   ]
  },
  {
   "cell_type": "code",
   "execution_count": null,
   "metadata": {},
   "outputs": [],
   "source": []
  }
 ],
 "metadata": {
  "kernelspec": {
   "display_name": "Python 3",
   "language": "python",
   "name": "python3"
  },
  "language_info": {
   "codemirror_mode": {
    "name": "ipython",
    "version": 3
   },
   "file_extension": ".py",
   "mimetype": "text/x-python",
   "name": "python",
   "nbconvert_exporter": "python",
   "pygments_lexer": "ipython3",
   "version": "3.6.8"
  }
 },
 "nbformat": 4,
 "nbformat_minor": 2
}
