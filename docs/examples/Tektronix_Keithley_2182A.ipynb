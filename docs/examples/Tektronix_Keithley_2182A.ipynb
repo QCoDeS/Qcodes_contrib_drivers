{
 "cells": [
  {
   "cell_type": "markdown",
   "metadata": {},
   "source": [
    "# Keithley 2182A Nanovoltmeter - Basic Usage\n",
    "\n",
    "This notebook demonstrates the essential functionality of the QCoDeS driver for the Keithley 2182A nanovoltmeter."
   ]
  },
  {
   "cell_type": "code",
   "execution_count": 1,
   "metadata": {},
   "outputs": [
    {
     "name": "stderr",
     "output_type": "stream",
     "text": [
      "NoTagError: `git describe --long --dirty --always --tags '--match=v*'` could not find a tag\n"
     ]
    }
   ],
   "source": [
    "# Import the driver\n",
    "from qcodes_contrib_drivers.drivers.Tektronix.Keithley_2182A import Keithley2182A"
   ]
  },
  {
   "cell_type": "markdown",
   "metadata": {},
   "source": [
    "## 1. Initialize the Instrument"
   ]
  },
  {
   "cell_type": "code",
   "execution_count": 2,
   "metadata": {},
   "outputs": [
    {
     "name": "stdout",
     "output_type": "stream",
     "text": [
      "Connected to: KEITHLEY INSTRUMENTS INC. 2182A (serial:4553837, firmware:C08/B01) in 0.13s\n",
      "Connected to: {'vendor': 'KEITHLEY INSTRUMENTS INC.', 'model': '2182A', 'serial': '4553837', 'firmware': 'C08/B01'}\n"
     ]
    }
   ],
   "source": [
    "# Connect to the instrument\n",
    "# Replace with your actual VISA address\n",
    "k2182a = Keithley2182A('k2182a', 'GPIB0::1::INSTR')\n",
    "\n",
    "# Check instrument identity\n",
    "print(\"Connected to:\", k2182a.IDN())"
   ]
  },
  {
   "cell_type": "markdown",
   "metadata": {},
   "source": [
    "## 2. Basic Voltage Measurement"
   ]
  },
  {
   "cell_type": "code",
   "execution_count": 4,
   "metadata": {},
   "outputs": [
    {
     "name": "stdout",
     "output_type": "stream",
     "text": [
      "Measured voltage: 0.036306 V\n"
     ]
    }
   ],
   "source": [
    "# Configure for basic voltage measurement\n",
    "k2182a.mode('dc voltage')\n",
    "k2182a.nplc(1.0)  # 1 power line cycle for good balance of speed and accuracy\n",
    "\n",
    "# Take a voltage measurement\n",
    "voltage = k2182a.voltage()\n",
    "print(f\"Measured voltage: {voltage:.6f} V\")"
   ]
  },
  {
   "cell_type": "markdown",
   "metadata": {},
   "source": [
    "## 3. MEASure vs FETCh Commands"
   ]
  },
  {
   "cell_type": "code",
   "execution_count": 5,
   "metadata": {},
   "outputs": [
    {
     "name": "stdout",
     "output_type": "stream",
     "text": [
      "MEASure result: 0.044363 V\n",
      "FETCh result: 0.044363 V\n"
     ]
    }
   ],
   "source": [
    "# MEASure command - triggers a new measurement\n",
    "measured_value = k2182a._measure_voltage()\n",
    "print(f\"MEASure result: {measured_value:.6f} V\")\n",
    "\n",
    "# FETCh command - gets the last measurement from buffer\n",
    "fetched_value = k2182a.fetch()\n",
    "print(f\"FETCh result: {fetched_value:.6f} V\")"
   ]
  },
  {
   "cell_type": "markdown",
   "metadata": {},
   "source": [
    "## 4. Noise Reduction Settings"
   ]
  },
  {
   "cell_type": "code",
   "execution_count": 6,
   "metadata": {},
   "outputs": [
    {
     "name": "stdout",
     "output_type": "stream",
     "text": [
      "Low-noise measurement: 0.016541 V\n"
     ]
    }
   ],
   "source": [
    "# Switch back to voltage mode\n",
    "k2182a.mode('dc voltage')\n",
    "\n",
    "\n",
    "# Enable filters\n",
    "k2182a.analog_filter(True)\n",
    "k2182a.digital_filter(True)\n",
    "\n",
    "# Take a low-noise measurement\n",
    "voltage = k2182a.voltage()\n",
    "print(f\"Low-noise measurement: {voltage:.6f} V\")"
   ]
  },
  {
   "cell_type": "markdown",
   "metadata": {},
   "source": [
    "## 5. Quick Configuration Presets"
   ]
  },
  {
   "cell_type": "code",
   "execution_count": 7,
   "metadata": {},
   "outputs": [
    {
     "name": "stdout",
     "output_type": "stream",
     "text": [
      "High accuracy measurement: 0.076642 V\n",
      "Fast measurement: 0.030461 V\n"
     ]
    }
   ],
   "source": [
    "# Optimize for maximum accuracy (slower but more precise)\n",
    "k2182a.optimize_for_low_noise()\n",
    "voltage_accurate = k2182a.voltage()\n",
    "print(f\"High accuracy measurement: {voltage_accurate:.6f} V\")\n",
    "\n",
    "# Optimize for speed (faster but less precise)\n",
    "k2182a.optimize_for_speed()\n",
    "voltage_fast = k2182a.voltage()\n",
    "print(f\"Fast measurement: {voltage_fast:.6f} V\")"
   ]
  },
  {
   "cell_type": "markdown",
   "metadata": {},
   "source": [
    "## 6. Cleanup"
   ]
  },
  {
   "cell_type": "code",
   "execution_count": 89,
   "metadata": {},
   "outputs": [
    {
     "name": "stdout",
     "output_type": "stream",
     "text": [
      "Instrument connection closed.\n"
     ]
    }
   ],
   "source": [
    "# Close the connection\n",
    "k2182a.close()\n",
    "print(\"Instrument connection closed.\")"
   ]
  }
 ],
 "metadata": {
  "kernelspec": {
   "display_name": "qcodes-contrib-drivers-py3.12",
   "language": "python",
   "name": "python3"
  },
  "language_info": {
   "codemirror_mode": {
    "name": "ipython",
    "version": 3
   },
   "file_extension": ".py",
   "mimetype": "text/x-python",
   "name": "python",
   "nbconvert_exporter": "python",
   "pygments_lexer": "ipython3",
   "version": "3.12.8"
  }
 },
 "nbformat": 4,
 "nbformat_minor": 4
}
