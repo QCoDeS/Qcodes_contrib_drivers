{
    "cells": [
        {
            "cell_type": "markdown",
            "id": "0053b22b",
            "metadata": {},
            "source": [
                "![li_banner_1_blue.png](./OI_images/li_banner_1_blue.png)\n",
                "\n",
                "# Proteox system integration with QCoDeS\n",
                "\n",
                "The Proteox is controlled with the `oi.DECS` system control software.  This is designed to operate in an asynchronous fashion using WebSockets.\n",
                "\n",
                "`QCoDeS` works well for `VISA` instruments that generally have synchronous behaviour.\n",
                "\n",
                "It is possible to the `WAMP` messaging protocol directly from QCoDeS, but for simple (single threaded) instrument drivers that can result in time-out issues if the communication channel is unactive for some time.\n",
                "\n",
                "An alternative approach is to make `oi.DECS` 'look like' a standard `VISA` instrument, and that approach is described below.\n",
                "\n",
                "## DECS<->VISA\n",
                "\n",
                "To accomplish this, a simple socket server (launched *via* `decs_visa.py`) is inserted between `QCoDeS` and `oi.DECS`.  A pair of queues objects are provided for inter-process communication between the socket server and the `WAMP` interface to the Proteox.\n",
                "\n",
                "![DECS_VISA.jpg](./OI_images/DECS_VISA.jpg)"
            ]
        },
        {
            "cell_type": "markdown",
            "id": "b9d4df11",
            "metadata": {},
            "source": [
                "## Example of Proteox Control using QCoDeS driver\n",
                "\n",
                "First, import the required python packages and Proteox oi.DECS QCoDeS driver, starting logging and create a Station."
            ]
        },
        {
            "cell_type": "code",
            "execution_count": 1,
            "id": "bc273d87",
            "metadata": {},
            "outputs": [
                {
                    "name": "stdout",
                    "output_type": "stream",
                    "text": [
                        "Logging hadn't been started.\n",
                        "Activating auto-logging. Current session state plus future input saved.\n",
                        "Filename       : C:\\Users\\abi.graham\\.qcodes\\logs\\command_history.log\n",
                        "Mode           : append\n",
                        "Output logging : True\n",
                        "Raw input log  : False\n",
                        "Timestamping   : True\n",
                        "State          : active\n",
                        "Qcodes Logfile : C:\\Users\\abi.graham\\.qcodes\\logs\\240523-21260-qcodes.log\n"
                    ]
                }
            ],
            "source": [
                "import logging\n",
                "\n",
                "import qcodes as qc\n",
                "from qcodes.logger.logger import start_all_logging\n",
                "\n",
                "from qcodes_contrib_drivers.drivers.OxfordInstruments.Proteox import oiDECS\n",
                "\n",
                "start_all_logging()\n",
                "log = logging.getLogger()\n",
                "\n",
                "station = qc.Station()"
            ]
        },
        {
            "cell_type": "markdown",
            "id": "21d60a3e",
            "metadata": {},
            "source": [
                "**Initialise connection to oi.DECS software/Proteox.**\n",
                "\n",
                "If running on a Windows platform, debug/information produced by the `DECS<->VISA` simple TCP socket server will be outputted to a `decs_visa.log file` created in your working directory. If struggling to establish a connection please check this log file for information on why."
            ]
        },
        {
            "cell_type": "code",
            "execution_count": 2,
            "id": "8222587b",
            "metadata": {},
            "outputs": [
                {
                    "name": "stdout",
                    "output_type": "stream",
                    "text": [
                        "Running on Windows-10-10.0.19045-SP0 - start subprocess without PIPEd output\n",
                        "Connected to: Oxford Instruments oi.DECS (serial:decs-544e0a, firmware:0.6.0.2621) in 0.15s\n"
                    ]
                }
            ],
            "source": [
                "try:\n",
                "    Proteox = oiDECS('Proteox')\n",
                "    Proteox.timeout(15)\n",
                "except Exception as err:\n",
                "    log.critical(err)\n",
                "    print(f'Connection failed: {err}')"
            ]
        },
        {
            "cell_type": "markdown",
            "id": "9fee190d",
            "metadata": {},
            "source": [
                "**Add Proteox to QCoDeS station and print readable snapshot of cryostat.**"
            ]
        },
        {
            "cell_type": "code",
            "execution_count": 3,
            "id": "262f4834",
            "metadata": {},
            "outputs": [
                {
                    "name": "stdout",
                    "output_type": "stream",
                    "text": [
                        "Proteox:\n",
                        "\tparameter                  value\n",
                        "--------------------------------------------------------------------------------\n",
                        "Cold_Plate_Temperature      :\t0 (K)\n",
                        "IDN                         :\t{'vendor': 'Oxford Instruments', 'model': 'oi:D...\n",
                        "Magnet_Current_Vector       :\t(0.0, 0.0, -0.0116) (('A', 'A', 'A'))\n",
                        "Magnet_State                :\tHolding Persistent \n",
                        "Magnet_Temperature          :\t813.1 (K)\n",
                        "Magnetic_Field_Vector       :\t(0.0, 0.0, 0.0) (('T', 'T', 'T'))\n",
                        "Mixing_Chamber_Heater_Power :\t0 (W)\n",
                        "Mixing_Chamber_Temperature  :\t0 (K)\n",
                        "OVC_Pressure                :\t2440 (Pa)\n",
                        "P1_Pressure                 :\t87013 (Pa)\n",
                        "P2_Pressure                 :\t171 (Pa)\n",
                        "P3_Pressure                 :\t430 (Pa)\n",
                        "P4_Pressure                 :\t33656 (Pa)\n",
                        "P5_Pressure                 :\t34647 (Pa)\n",
                        "P6_Pressure                 :\t451.9 (Pa)\n",
                        "PT1_Head_Temperature        :\t294.3 (K)\n",
                        "PT1_Plate_Temperature       :\t294.24 (K)\n",
                        "PT2_Head_Temperature        :\t294.01 (K)\n",
                        "PT2_Plate_Temperature       :\t294.03 (K)\n",
                        "Sorb_Temperature            :\t177.14 (K)\n",
                        "Still_Heater_Power          :\t0 (W)\n",
                        "Still_Plate_Temperature     :\t179.44 (K)\n",
                        "timeout                     :\t15 (s)\n"
                    ]
                }
            ],
            "source": [
                "station.add_component(Proteox)\n",
                "Proteox.print_readable_snapshot()"
            ]
        },
        {
            "cell_type": "markdown",
            "id": "9db72d10",
            "metadata": {},
            "source": [
                "**Read Parameters**"
            ]
        },
        {
            "cell_type": "code",
            "execution_count": 3,
            "id": "6afc30ed",
            "metadata": {},
            "outputs": [
                {
                    "data": {
                        "text/plain": [
                            "1.9693"
                        ]
                    },
                    "execution_count": 3,
                    "metadata": {},
                    "output_type": "execute_result"
                }
            ],
            "source": [
                "Proteox.Mixing_Chamber_Temperature()"
            ]
        },
        {
            "cell_type": "code",
            "execution_count": 3,
            "id": "028e2f2f",
            "metadata": {},
            "outputs": [
                {
                    "data": {
                        "text/plain": [
                            "(0.0, 0.0, -0.000215296835037395)"
                        ]
                    },
                    "execution_count": 3,
                    "metadata": {},
                    "output_type": "execute_result"
                }
            ],
            "source": [
                "Proteox.Magnetic_Field_Vector()"
            ]
        },
        {
            "cell_type": "code",
            "execution_count": 4,
            "id": "2759ade4",
            "metadata": {},
            "outputs": [
                {
                    "data": {
                        "text/plain": [
                            "-0.000215296835037395"
                        ]
                    },
                    "execution_count": 4,
                    "metadata": {},
                    "output_type": "execute_result"
                }
            ],
            "source": [
                "Proteox.Magnetic_Field_Vector()[2]"
            ]
        },
        {
            "cell_type": "markdown",
            "id": "6bd11ddf",
            "metadata": {},
            "source": [
                "### Magnet Control"
            ]
        },
        {
            "cell_type": "code",
            "execution_count": 7,
            "id": "0510d6a8",
            "metadata": {},
            "outputs": [
                {
                    "data": {
                        "text/plain": [
                            "'Holding Persistent'"
                        ]
                    },
                    "execution_count": 7,
                    "metadata": {},
                    "output_type": "execute_result"
                }
            ],
            "source": [
                "Proteox.Magnet_State()"
            ]
        },
        {
            "cell_type": "markdown",
            "id": "e34cc951",
            "metadata": {},
            "source": [
                "**Set target field value and ramp rate.** \n",
                "\n",
                "````python\n",
                "set_magnet_target(\n",
                "  Coordinate_system : int, \n",
                "  X_feild_value : float, \n",
                "  Y_field_value : float, \n",
                "  Z_field_value : float, \n",
                "  Sweep_mode : str, \n",
                "  Sweep_rate : float,\n",
                "  Persist_on_completion : bool\n",
                ")\n",
                "````\n",
                "\n",
                "Options for coordinate system are:  \n",
                "\n",
                "  0 - Cartesian (X,Y,Z)  \n",
                "  10 - Cylinderical (Rho, Phi, Z)  \n",
                "  20 - Sphereical (R,Theta,Phi)  \n",
                "\n",
                "For a solenoid magnet X_field_value and Y_field_value should be set to zero.\n",
                "\n",
                "Options for Sweep_mode (and Sweep_rate) are: \n",
                " \n",
                "  'ASAP' (Sweep_rate is ignored. Can be any float)  \n",
                "  'TIME' (Sweep_rate = time in minutes)   \n",
                "  'RATE' (Sweep_rate = rate in T/min)   "
            ]
        },
        {
            "cell_type": "code",
            "execution_count": 8,
            "id": "6a6fd845",
            "metadata": {},
            "outputs": [],
            "source": [
                "#for z-solenoid magnet set target field to 0.1 T and sweep rate to 0.25 T/min.\n",
                "Proteox.set_magnet_target(0,0,0,0,'RATE',0.25,False)\n",
                "\n",
                "#If running with oi.DECS firmware =< 0.5.1, ingore the error \"Error parsing response: Length of data record inconsistent with record type\". The magnet field target should have still been set. Check the GUI.\n",
                "#You will recieve this error because the data sent back from oi.DECS won't be handled correctly for firmware versions =< 0.5.1."
            ]
        },
        {
            "cell_type": "markdown",
            "id": "0ae49d75",
            "metadata": {},
            "source": [
                "Sweep the field. Then wait until Magnet status has gone back to 'Holding Not Persistent'."
            ]
        },
        {
            "cell_type": "code",
            "execution_count": null,
            "id": "4713295d",
            "metadata": {},
            "outputs": [],
            "source": [
                "Proteox.sweep_field()\n",
                "Proteox.wait_until_field_stable()"
            ]
        },
        {
            "cell_type": "markdown",
            "id": "a0a10249",
            "metadata": {},
            "source": [
                "For high resolution field sweeps, set the target field as normal, then use the `sweep_small_field_step` function, instead of `sweep_field`.\n",
                "\n",
                "The `sweep_small_field_step` function is required when you want to step the output current of the magnet power supply by less than 100 mA. The iPS has an output current resolution of 0.1 mA. The function `sweep_field` shown above only provides a output current resolution of 100 mA, due to the oi.DECS API used in this function.\n",
                "\n",
                "*(What 100 mA is in magnetic field will depend on the current to field conversion factor of your magnet. This value can be found on your iPS under **Config** and under the column heading **I to H (A/T)**.)*"
            ]
        },
        {
            "cell_type": "code",
            "execution_count": null,
            "id": "0d7b0945",
            "metadata": {},
            "outputs": [],
            "source": [
                "Proteox.set_magnet_target(0,0,0,0.005,'ASAP',0.25,False)\n",
                "Proteox.sweep_small_field_step('Z')\n",
                "\n",
                "# You can only ramp one sub-group (X,Y or Z) at a time.\n",
                "# When ramping the VRM subgroup the GUI will continue to show the VRM status as ‘Holding Not Persistent’ but the iPS will ramp the current to your field set point.\n",
                "# The field value displayed on the GUI always rounds to 2 decimal places, but if you use the API to ask for the field value, it gives you the correct more precise value."
            ]
        },
        {
            "cell_type": "markdown",
            "id": "6a0df386",
            "metadata": {},
            "source": [
                "### 2D measurement example using do2d"
            ]
        },
        {
            "cell_type": "code",
            "execution_count": 3,
            "id": "3e3c6349",
            "metadata": {},
            "outputs": [
                {
                    "name": "stdout",
                    "output_type": "stream",
                    "text": [
                        "Starting experimental run with id: 2. Using 'qcodes.dataset.do2d'\n"
                    ]
                },
                {
                    "data": {
                        "application/vnd.jupyter.widget-view+json": {
                            "model_id": "2a977970416949beb9083a9992f35e14",
                            "version_major": 2,
                            "version_minor": 0
                        },
                        "text/plain": [
                            "  0%|          | 0/3 [00:00<?, ?it/s]"
                        ]
                    },
                    "metadata": {},
                    "output_type": "display_data"
                },
                {
                    "name": "stdout",
                    "output_type": "stream",
                    "text": [
                        "Sweeping Field\n",
                        "Status: Holding Not Persistent.\n",
                        "Waiting for temperature to stablilise at 2.0 K.\n",
                        "Temperature = 1.9909 K\n",
                        "Temperature stable after 31 seconds. (Mean-Target = 0.019863333333333344 K, StdDev = 0.008160411890476027 K)\n"
                    ]
                },
                {
                    "data": {
                        "application/vnd.jupyter.widget-view+json": {
                            "model_id": "abde9c07dda54c57ad055a3db3e17cdb",
                            "version_major": 2,
                            "version_minor": 0
                        },
                        "text/plain": [
                            "  0%|          | 0/3 [00:00<?, ?it/s]"
                        ]
                    },
                    "metadata": {},
                    "output_type": "display_data"
                },
                {
                    "name": "stdout",
                    "output_type": "stream",
                    "text": [
                        "Sweeping Field\n",
                        "Status: Holding Not Persistent.\n",
                        "Sweeping Field\n",
                        "Status: Holding Not Persistent.\n",
                        "Sweeping Field\n",
                        "Status: Holding Not Persistent.\n",
                        "Waiting for temperature to stablilise at 3.0 K.\n",
                        "Temperature = 3.0094 K\n",
                        "Temperature stable after 106 seconds. (Mean-Target = 0.007279999999999731 K, StdDev = 0.009747936533783237 K)\n"
                    ]
                },
                {
                    "data": {
                        "application/vnd.jupyter.widget-view+json": {
                            "model_id": "83d064961838420aa70df8c8f57b5db0",
                            "version_major": 2,
                            "version_minor": 0
                        },
                        "text/plain": [
                            "  0%|          | 0/3 [00:00<?, ?it/s]"
                        ]
                    },
                    "metadata": {},
                    "output_type": "display_data"
                },
                {
                    "name": "stdout",
                    "output_type": "stream",
                    "text": [
                        "Sweeping Field\n",
                        "Status: Holding Not Persistent.\n",
                        "Sweeping Field\n",
                        "Status: Holding Not Persistent.\n",
                        "Sweeping Field\n",
                        "Status: Holding Not Persistent.\n",
                        "Waiting for temperature to stablilise at 4.0 K.\n",
                        "Temperature = 4.0101 K\n",
                        "Temperature stable after 102 seconds. (Mean-Target = 0.001926666666665966 K, StdDev = 0.009894676458693501 K)\n"
                    ]
                },
                {
                    "data": {
                        "application/vnd.jupyter.widget-view+json": {
                            "model_id": "5650d027ab9c47b1b107cd42d202724a",
                            "version_major": 2,
                            "version_minor": 0
                        },
                        "text/plain": [
                            "  0%|          | 0/3 [00:00<?, ?it/s]"
                        ]
                    },
                    "metadata": {},
                    "output_type": "display_data"
                },
                {
                    "name": "stdout",
                    "output_type": "stream",
                    "text": [
                        "Sweeping Field\n",
                        "Status: Holding Not Persistent.\n",
                        "Sweeping Field\n",
                        "Status: Holding Not Persistent.\n"
                    ]
                },
                {
                    "data": {
                        "text/plain": [
                            "(results #2@C:\\Users\\abi.graham\\experiments.db\n",
                            " ---------------------------------------------\n",
                            " MC_Temperature - numeric\n",
                            " Magnetic_Field_Z - numeric\n",
                            " Etime - numeric,\n",
                            " (<Axes: title={'center': 'Run #2, Experiment doNd_Measurement (no sample)'}, xlabel='MC_Temperature (K)', ylabel='Magnetic_Field_Z (mT)'>,),\n",
                            " (<matplotlib.colorbar.Colorbar at 0x1c1331caa20>,))"
                        ]
                    },
                    "execution_count": 3,
                    "metadata": {},
                    "output_type": "execute_result"
                },
                {
                    "data": {
                        "image/png": "[encoded data removed]",
                        "text/plain": [
                            "<Figure size 640x480 with 2 Axes>"
                        ]
                    },
                    "metadata": {},
                    "output_type": "display_data"
                }
            ],
            "source": [
                "from qcodes.dataset import do2d\n",
                "from qcodes.instrument.specialized_parameters import ElapsedTimeParameter\n",
                "from qcodes.dataset import load_or_create_experiment, Measurement\n",
                "\n",
                "tutorial_exp = load_or_create_experiment(\"doNd_Measurement\", sample_name=\"no sample\")\n",
                "meas = Measurement(name=\"2d_measurement\", exp=tutorial_exp)\n",
                "\n",
                "# create a function that sets the temperature and waits until stable\n",
                "def Mixing_Chamber_Temperature_set(temp):\n",
                "    Proteox.Mixing_Chamber_Temperature(temp)\n",
                "    Proteox.wait_until_temperature_stable_std_control(0.02, 0.01, 1)\n",
                "\n",
                "# use above function as temperature setting parameter\n",
                "set_Mixing_Chamber_Temperature = qc.Parameter('MC_Temperature',\n",
                "                        label='MC_Temperature',\n",
                "                        unit='K',\n",
                "                        set_cmd=Mixing_Chamber_Temperature_set)\n",
                "\n",
                "# create a function that sets the magnetic field and waits until stable\n",
                "def Magnetic_Field_Z_set(tesla):\n",
                "    Proteox.set_magnet_target(0,0,0,tesla,'RATE',0.3,False)\n",
                "    Proteox.sweep_field()\n",
                "    Proteox.wait_until_field_stable()\n",
                "\n",
                "# use above function as the magnetic field setting parameter\n",
                "set_Magnetic_Field_Z = qc.Parameter('Magnetic_Field_Z',\n",
                "                        label='Magnetic_Field_Z',\n",
                "                        unit='T',\n",
                "                        set_cmd=Magnetic_Field_Z_set)\n",
                "\n",
                "# parameter to be measured at each temperature and field value.\n",
                "Etime = ElapsedTimeParameter('Etime')\n",
                "\n",
                "do2d(\n",
                "    set_Mixing_Chamber_Temperature,\n",
                "    2,\n",
                "    4,\n",
                "    3,\n",
                "    0.01,\n",
                "    set_Magnetic_Field_Z,\n",
                "    0,\n",
                "    0.2,\n",
                "    3,\n",
                "    0.01,\n",
                "    Etime,\n",
                "    do_plot=True,\n",
                "    show_progress=True\n",
                ")"
            ]
        },
        {
            "cell_type": "markdown",
            "id": "c371c770",
            "metadata": {},
            "source": [
                "**Close connection to oiDECS/Proteox**"
            ]
        },
        {
            "cell_type": "code",
            "execution_count": 4,
            "id": "ed57a36a",
            "metadata": {},
            "outputs": [],
            "source": [
                "Proteox.close()"
            ]
        },
        {
            "cell_type": "markdown",
            "id": "c49745fd",
            "metadata": {},
            "source": [
                "![nanoscience.png](./OI_images/nanoscience.png)"
            ]
        },
        {
            "cell_type": "markdown",
            "id": "acfd92ca",
            "metadata": {},
            "source": []
        }
    ],
    "metadata": {
        "kernelspec": {
            "display_name": "Python 3 (ipykernel)",
            "language": "python",
            "name": "python3"
        },
        "language_info": {
            "codemirror_mode": {
                "name": "ipython",
                "version": 3
            },
            "file_extension": ".py",
            "mimetype": "text/x-python",
            "name": "python",
            "nbconvert_exporter": "python",
            "pygments_lexer": "ipython3",
            "version": "3.12.4"
        },
        "nbsphinx": {
            "execute": "never"
        }
    },
    "nbformat": 4,
    "nbformat_minor": 5
}
