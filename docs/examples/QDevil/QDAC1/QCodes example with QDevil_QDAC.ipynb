{
 "cells": [
  {
   "cell_type": "markdown",
   "metadata": {},
   "source": [
    "# QCoDeS Example with QDevil_QDAC"
   ]
  },
  {
   "cell_type": "code",
   "execution_count": null,
   "metadata": {},
   "outputs": [],
   "source": [
    "from time import sleep\n",
    "\n",
    "import numpy as np\n",
    "\n",
    "from qcodes.dataset import new_experiment\n",
    "from qcodes.station import Station\n",
    "from qcodes_contrib_drivers.drivers.QDevil.QDAC1 import QDac, Mode"
   ]
  },
  {
   "cell_type": "markdown",
   "metadata": {},
   "source": [
    "## Initialisation\n",
    "When initialised, the driver will read in the state of the QDAC to the extend spossible. This means that initialisation does not change any outputs, implying that any ongoing ramping is continuing undisturbed. The initialisation is, however, **not** able to figure out if any **slopes** have been assigned to channels, see later. So these will have to be set again by the user. \n",
    "\n",
    "During the initialisation all channels are queried in order to update the parmeter cache. However, as the current query is very slow due to the long current sensor integration time, it is optional to update currents. They are only read at startup if the **update_currents** flag is set to True.  \n",
    "\n",
    "NOTE: After switching the QDAC off and back on the driver has to be re-initialised, OR the reset() command has to be executed."
   ]
  },
  {
   "cell_type": "code",
   "execution_count": null,
   "metadata": {},
   "outputs": [],
   "source": [
    "# Connect to the instrument\n",
    "# By default the initialisation skips reading the current sensors on all channels\n",
    "# as this takes some 0.2-0.5 secs per channel due to the sensor settling time. \n",
    "# You can force reading the current sensors at startup by specifiying \"update_currents=True\" in the call.\n",
    "\n",
    "qdac = QDac(name='qdac', address='ASRL2::INSTR', update_currents=False)\n",
    "print(\"Number of channels: \",qdac.num_chans)"
   ]
  },
  {
   "cell_type": "markdown",
   "metadata": {},
   "source": [
    "## Basic QDAC Usage\n",
    "\n",
    "The QDevil_QDAC driver supports controlling each individual BNC output channel. Each output channel \"qdac.ch##.\" has seven attributes:\n",
    "  * v: DC voltage\n",
    "  * i: Current out (read-only)\n",
    "  * mode: the combined voltage output and current sensor range: Mode.vhigh_ihigh, Mode.vhigh_ilow, Mode.vlow_ilow\n",
    "  * slope: Maximum ramp rate for an output channel when changing teh DC voltage,v.\n",
    "  * sync: Sync output assigned to a channel \n",
    "  * sync_delay: Sync pulse delay  \n",
    "  * sync_duration: Sync pulse duration\n",
    "  \n",
    "The slope is the (maximal) slope in V/s that the channel will allow its voltage to change by. By default, all channels have a slope of \"Inf\". The slope can be changed dynamically, but no more than 8 channels can be ramped simultaneously.\n",
    "\n",
    "In addition this driver supports:\n",
    "   * Reset the QDAC to start up conditions. Allows continuing operation after the QDAC has been \n",
    "     powered off/on without restarting teh driver\n",
    "   * Simultaneous ramping of up to 8 channels\n",
    "   * 2D ramping of two groups of channels (slow and fast channels, up to 8 in total)\n",
    "   * Override of protection against mode change for non-zero output voltages\n",
    "   * Reading the internal temperature sensors \n",
    "   * Pretty printing the state of all channels, of assigned sync outputs and of assigned slopes "
   ]
  },
  {
   "cell_type": "markdown",
   "metadata": {},
   "source": [
    "### Setting voltages and reading currents"
   ]
  },
  {
   "cell_type": "code",
   "execution_count": null,
   "metadata": {},
   "outputs": [],
   "source": [
    "# Setting the output voltage of a channel using \"set\"\n",
    "qdac.ch01.v.set(1)\n",
    "# Reading the output voltage of a channel using \"get\"\n",
    "print(f'Channel 1 voltage: {qdac.ch01.v.get()} {qdac.ch01.v.unit}')"
   ]
  },
  {
   "cell_type": "code",
   "execution_count": null,
   "metadata": {},
   "outputs": [],
   "source": [
    "# Setting the output voltage of a channel using short-hand notation, which is used hereafter\n",
    "qdac.ch01.v(-1)\n",
    "# Reading the output voltage of a channel using short hand notion \"qdac.ch01.v()\", which is used hereafter\n",
    "print(f'Channel 1 voltage: {qdac.ch01.v()} {qdac.ch01.v.unit}')"
   ]
  },
  {
   "cell_type": "code",
   "execution_count": null,
   "metadata": {},
   "outputs": [],
   "source": [
    "# Reading the current output of a channel  \n",
    "print(qdac.ch01.i(), qdac.ch01.i.unit)"
   ]
  },
  {
   "cell_type": "markdown",
   "metadata": {},
   "source": [
    "### Smooth ramping between voltages"
   ]
  },
  {
   "cell_type": "code",
   "execution_count": null,
   "metadata": {},
   "outputs": [],
   "source": [
    "# For smooth voltage changes the maximal voltage change (in V/s) may be set for each channel\n",
    "qdac.ch01.slope(1)\n",
    "qdac.ch02.slope(2)\n",
    "# An overview may be printed (all other channels have 'Inf' slope)\n",
    "qdac.print_slopes()"
   ]
  },
  {
   "cell_type": "code",
   "execution_count": null,
   "metadata": {},
   "outputs": [],
   "source": [
    "# Now setting channel 1 and 2 voltages will cause slow ramping to 0V (1 V/s and 2 V/s, respectively)\n",
    "# Note that ch02 is already at 0 V, so the ramping function will complain bacause a ramp time\n",
    "# less than 2 ms is not possible.\n",
    "qdac.ch01.v(0)\n",
    "qdac.ch02.v(0)\n",
    "sleep(1)"
   ]
  },
  {
   "cell_type": "code",
   "execution_count": null,
   "metadata": {},
   "outputs": [],
   "source": [
    "# Note that only 8 (or fewer) channels can be slow ramped at a time\n",
    "# To disable slow ramping of a channel, set its slope to 'Inf':\n",
    "qdac.ch01.slope('Inf')\n",
    "qdac.print_slopes()"
   ]
  },
  {
   "cell_type": "markdown",
   "metadata": {},
   "source": [
    "### Addressing multiple channels\n",
    "Multiple channels can be addressed simultaneously via the 'channels' list, by use of slicing.\n",
    "Note that numbering goes from 0 to N-1, where N is the number of channels. "
   ]
  },
  {
   "cell_type": "code",
   "execution_count": null,
   "metadata": {},
   "outputs": [],
   "source": [
    "# This will query voltages of all channels of a 24 channel QDAC \n",
    "# Note that index 0 refer to channel 01, and so on \n",
    "print(qdac.channels[0:8].v())"
   ]
  },
  {
   "cell_type": "code",
   "execution_count": null,
   "metadata": {},
   "outputs": [],
   "source": [
    "# Similarly, we may set them. The outputs will not change simultaneously but witin some milliseconds.\n",
    "qdac.channels[0:8].v(-0.9)"
   ]
  },
  {
   "cell_type": "markdown",
   "metadata": {},
   "source": [
    "### Output a SYNC pulse\n",
    "The QDAC can output a puls one one of the SYNC outputs when a channel is ramped, either using the \"slope\" functionality, see above, or when using one of the ramping functions below."
   ]
  },
  {
   "cell_type": "code",
   "execution_count": null,
   "metadata": {},
   "outputs": [],
   "source": [
    "# To each channel one may assign a SYNC output\n",
    "# SYNC output 1 will fire a 10 ms 5 V pulse when ch02 initiates a ramp\n",
    "# ch will ramp when setting a voltage while a slope is assinged, or when using \"ramp_voltages\"\n",
    "qdac.ch02.sync(1)  \n",
    "# note that a pulse is still fired even if no visible ramp is performed\n",
    "# e.g if ramping from 1 V to 1 V\n",
    "\n",
    "# The sync pulse settings can be modified\n",
    "qdac.ch02.sync_delay(0)  # The sync pulse delay (s)\n",
    "qdac.ch02.sync_duration(25e-3)  # The sync pulse duration (secs). Default is 10 ms.\n",
    "\n",
    "# Print an overview of assigned SYNC ports\n",
    "qdac.print_syncs()"
   ]
  },
  {
   "cell_type": "code",
   "execution_count": null,
   "metadata": {},
   "outputs": [],
   "source": [
    "# Plug in an oscilloscope to CH02 and SYNC1 and observe the ramping and the sync pulse\n",
    "qdac.ch02.slope(1)\n",
    "qdac.ch02.v(-0.5)\n",
    "sleep(3)\n",
    "qdac.ch02.v(1)"
   ]
  },
  {
   "cell_type": "code",
   "execution_count": null,
   "metadata": {},
   "outputs": [],
   "source": [
    "# syncs are unassigned by assigning sync 0\n",
    "qdac.ch02.sync(0)"
   ]
  },
  {
   "cell_type": "markdown",
   "metadata": {},
   "source": [
    "## Ramp one or more channels simultaneously \n",
    "Setting several channels simutaneously is only possible using \"ramp_voltages\". Note that "
   ]
  },
  {
   "cell_type": "code",
   "execution_count": null,
   "metadata": {},
   "outputs": [],
   "source": [
    "# Here we ramp channels 1, 2, 3, and 7 from there current values to zero, in 0.2 seconds\n",
    "duration = qdac.ramp_voltages([1,2,3,7],[],[0,0,0,0],0.2)\n",
    "sleep(duration+0.05)"
   ]
  },
  {
   "cell_type": "code",
   "execution_count": null,
   "metadata": {},
   "outputs": [],
   "source": [
    "# As it takes tens of milliseconds to read the channels' current voltage, it is faster \n",
    "# if their previous voltages are known:\n",
    "duration = qdac.ramp_voltages([1,2,3,7],[0,0,0,0],[1,2,3,4],0.2)\n",
    "sleep(duration+0.05)"
   ]
  },
  {
   "cell_type": "markdown",
   "metadata": {},
   "source": [
    "### Ramp a single channel step by step and record and plot the current sensor reading"
   ]
  },
  {
   "cell_type": "code",
   "execution_count": null,
   "metadata": {},
   "outputs": [],
   "source": [
    "# Perform a 1D scan of the QDAC ch01 and record the current on\n",
    "# the same channel also using the QDAC. \n",
    "# Replace the QDAC current measurement by a DMM to do a typical physical measurement\n",
    "\n",
    "from time import ctime\n",
    "\n",
    "from qcodes.dataset import Measurement, plot_by_id\n",
    "\n",
    "STATION = Station(qdac)\n",
    "new_experiment(\"QDAC\", \"TestIV\"+ctime())\n",
    "meas = Measurement()\n",
    "meas.register_parameter(qdac.ch01.v)  # register the independent parameter\n",
    "meas.register_parameter(qdac.ch01.i, setpoints=(qdac.ch01.v,))  # now register the dependent one\n",
    "meas.write_period = 2\n",
    "with meas.run() as datasaver:\n",
    "    for set_v in np.linspace(-1, 1, 10):\n",
    "        qdac.ch01.v(set_v)\n",
    "        sleep(0.1)\n",
    "        get_i = qdac.ch01.i()\n",
    "        datasaver.add_result((qdac.ch01.v, set_v),\n",
    "                            (qdac.ch01.i, get_i))\n",
    "        print(set_v, get_i)\n",
    "    dataset = datasaver.dataset\n",
    "myplot = plot_by_id(dataset.run_id)"
   ]
  },
  {
   "cell_type": "markdown",
   "metadata": {},
   "source": [
    "## 2D scan \n",
    "It is possible to ramp two groups of channels simultaneously. This is useful for a 2D data acquisition setup\n",
    "Note! The slope definitions are not used during the 2D scan."
   ]
  },
  {
   "cell_type": "code",
   "execution_count": null,
   "metadata": {},
   "outputs": [],
   "source": [
    "# set outputs to zero\n",
    "qdac.ch01.v(0)\n",
    "qdac.ch02.v(0)\n",
    "qdac.ch03.v(0)\n",
    "\n",
    "# enable sync on one of the fast channels (sync signal is output at every start of a staircase ramp.)\n",
    "# for example for triggering a digitizer\n",
    "qdac.ch02.sync(1)\n",
    "# enable a 10ms sync delay which allows for stabilizing of the device\n",
    "qdac.ch02.sync_delay(0.01)"
   ]
  },
  {
   "cell_type": "code",
   "execution_count": null,
   "metadata": {},
   "outputs": [],
   "source": [
    "# Note! The slope definitions are not used during the 2D scan\n",
    "duration = qdac.ramp_voltages_2d( slow_chans=[1], slow_vstart=[0], slow_vend=[1],\n",
    "                                  fast_chans=[2,3], fast_vstart=[0,0], fast_vend=[1,-1],\n",
    "                                  slow_steps = 10, fast_steps = 10,\n",
    "                                  step_length=0.02)\n",
    "# wait for the ramp to finish\n",
    "sleep(duration+0.1)"
   ]
  },
  {
   "attachments": {
    "image.png": {
     "image/png": "[encoded data removed]"
    }
   },
   "cell_type": "markdown",
   "metadata": {},
   "source": [
    "<img src=\"attachment:image.png\" width=\"400\">"
   ]
  },
  {
   "cell_type": "code",
   "execution_count": null,
   "metadata": {},
   "outputs": [],
   "source": [
    "qdac.print_syncs()"
   ]
  },
  {
   "cell_type": "code",
   "execution_count": null,
   "metadata": {},
   "outputs": [],
   "source": [
    "# Set outputs back to zero\n",
    "# First remove sync output so that we do not trigger an acquisition\n",
    "qdac.ch02.sync(0)\n",
    "qdac.ch01.v.set(0)\n",
    "qdac.ch02.v.set(0)\n",
    "qdac.ch03.v.set(0)"
   ]
  },
  {
   "cell_type": "markdown",
   "metadata": {},
   "source": [
    "## The \"mode\" parameter: controlling voltage and current ranges: \n",
    "The \"mode\" parameter is controlling the output voltage range (by an attenuator) and the current sensor range. Only certain combinations of the two are allowed, which is why they are conrolled by a single parameter. The mode parameter is allowed values are:\n",
    "\n",
    "Mode.vhigh_ihigh : high voltage output range / high current sensing range\n",
    "\n",
    "Mode.vhigh_ilow  : high voltage output range / low current sensing range\n",
    "\n",
    "Mode.vlow_ilow   : low voltage output range / low current sensing range"
   ]
  },
  {
   "cell_type": "code",
   "execution_count": null,
   "metadata": {},
   "outputs": [],
   "source": [
    "# The \"QDac.Mode\" enum class is used for setting and reading the mode. \n",
    "\n",
    "# This will set the voltage output range to low, and the current sensor range to low\n",
    "qdac.ch01.mode(Mode.vlow_ilow)\n",
    "print(qdac.ch01.mode.cache().get_label())\n",
    "\n",
    "# This will return ch01 to the default mode: high voltage range, high current sensing range\n",
    "qdac.ch01.mode(Mode.vhigh_ihigh)\n",
    "print(qdac.ch01.mode.cache().get_label())"
   ]
  },
  {
   "cell_type": "markdown",
   "metadata": {},
   "source": [
    "### When \"mode\" change results in change of voltage range\n",
    "\n",
    "When changing \"mode\" so that the voltage range is changed the attenuator is switched immidiately. The driver will re-adjust the output voltage in order to keep it constant, but a spike will always occur if the voltage is non-zero. If the set voltage is outside the range of the low range and the transition is from high to low range, the output will be clipped. \n",
    "\n",
    "To avoid spikes, the driver by default **does not allow changing the voltage range (mode)** when the output is non-zero. To over-ride this protection, set qdac.mode_force(True)."
   ]
  },
  {
   "cell_type": "code",
   "execution_count": null,
   "metadata": {},
   "outputs": [],
   "source": [
    "# Here is a small example showing demonstrating the behavior - if posible hook up an oscilloscope on ch01\n",
    "#\n",
    "qdac.ch01.slope('Inf')                # Make sure that we are not fooled by a slow changing ch01   \n",
    "qdac.ch01.mode(Mode.vhigh_ihigh)      # Attenuation OFF (the default), high voltage range\n",
    "qdac.ch01.v(1.5)                      # Set the voltage to outside the low voltage range (but inside present range)"
   ]
  },
  {
   "cell_type": "code",
   "execution_count": null,
   "metadata": {},
   "outputs": [],
   "source": [
    "qdac.mode_force(True)            # Enable changing voltage range eventhough the output is non-zero\n",
    "qdac.ch01.mode(Mode.vlow_ilow)   # Attenuation ON, low voltage range - signal is clipped, and a dip occurred\n",
    "print(qdac.ch01.v())            # Returns approximately 1.1V as the output is clipped to the low range limit"
   ]
  },
  {
   "cell_type": "code",
   "execution_count": null,
   "metadata": {},
   "outputs": [],
   "source": [
    "qdac.ch01.mode(Mode.vhigh_ihigh)      # Attenuation off, high voltage range\n",
    "print(qdac.ch01.v())                  # Returns approximately 1.1V, unchanged - but a spike occured"
   ]
  },
  {
   "cell_type": "code",
   "execution_count": null,
   "metadata": {},
   "outputs": [],
   "source": [
    "# Return to protected mode\n",
    "qdac.mode_force(False)"
   ]
  },
  {
   "cell_type": "code",
   "execution_count": null,
   "metadata": {},
   "outputs": [],
   "source": [
    "# Now provoke an error\n",
    "print(qdac.ch01.v())\n",
    "print(qdac.ch01.mode.cache().get_label())     # Pretty printing the mode parameter\n",
    "try:\n",
    "    qdac.ch01.mode(Mode.vlow_ilow)\n",
    "except ValueError as ve:\n",
    "    print(\"ERROR: \", ve)"
   ]
  },
  {
   "cell_type": "markdown",
   "metadata": {},
   "source": [
    "## Overview of channels\n",
    "\n",
    "The driver provides a method for pretty-printing the state of all channels\n",
    "\n",
    "The pretty-print method may or may not **update** the values for the currents, depending on the value of the `update_currents` flag. Each current reading takes some 200-500 ms, so updating all current values takes about 14-24 seconds depending on the number of channels."
   ]
  },
  {
   "cell_type": "code",
   "execution_count": null,
   "metadata": {},
   "outputs": [],
   "source": [
    "qdac.print_overview(update_currents=False)"
   ]
  },
  {
   "cell_type": "markdown",
   "metadata": {},
   "source": [
    "## Temperature sensors\n",
    "Physically, the QDac consists of either three or six boards each hosting eight channels. For diagnostics purposes temperature sensors are placed at three locations on each board,. Read-only parameters for these sensors are provided, named tempX_Y where X is the board number (0-2, or 0-5) and Y the sensor number (0-2)."
   ]
  },
  {
   "cell_type": "code",
   "execution_count": null,
   "metadata": {},
   "outputs": [],
   "source": [
    "print(qdac.temp0_0.get(), qdac.temp0_0.unit)\n",
    "print(qdac.temp2_1.get(), qdac.temp0_0.unit)"
   ]
  },
  {
   "cell_type": "markdown",
   "metadata": {},
   "source": [
    "## Resetting the driver and the QDAC\n",
    "To get to a well defined state, the QDAC should be powered off and then on before starting this driver.\n",
    "\n",
    "Alternatively the reset command can be executed. The reset command can also be used to recover an off/on situation of the QDAC without having to restart the driver."
   ]
  },
  {
   "cell_type": "code",
   "execution_count": null,
   "metadata": {},
   "outputs": [],
   "source": [
    "qdac.reset(update_currents=False)\n",
    "# Then print the overview gain\n",
    "qdac.print_overview(update_currents=False)"
   ]
  },
  {
   "cell_type": "code",
   "execution_count": null,
   "metadata": {},
   "outputs": [],
   "source": [
    "# Shut down the VISA connection\n",
    "qdac.close()"
   ]
  }
 ],
 "metadata": {
  "kernelspec": {
   "display_name": "'Python Interactive'",
   "language": "python",
   "name": "30e14b23-afba-469e-97a2-7642068d43d1"
  },
  "language_info": {
   "codemirror_mode": {
    "name": "ipython",
    "version": 3
   },
   "file_extension": ".py",
   "mimetype": "text/x-python",
   "name": "python",
   "nbconvert_exporter": "python",
   "pygments_lexer": "ipython3",
   "version": "3.7.0"
  },
  "nbsphinx": {
   "execute": "never"
  }
 },
 "nbformat": 4,
 "nbformat_minor": 2
}
