{
 "cells": [
  {
   "cell_type": "markdown",
   "id": "ba1cac37",
   "metadata": {},
   "source": [
    "# QDAC-II 2D diode scan"
   ]
  },
  {
   "cell_type": "code",
   "execution_count": 1,
   "id": "2240aad5",
   "metadata": {},
   "outputs": [
    {
     "name": "stdout",
     "output_type": "stream",
     "text": [
      "Logging hadn't been started.\n",
      "Activating auto-logging. Current session state plus future input saved.\n",
      "Filename       : /Users/jps/.qcodes/logs/command_history.log\n",
      "Mode           : append\n",
      "Output logging : True\n",
      "Raw input log  : False\n",
      "Timestamping   : True\n",
      "State          : active\n",
      "Qcodes Logfile : /Users/jps/.qcodes/logs/220421-5376-qcodes.log\n",
      "Connected to: QDevil QDAC-II (serial:3, firmware:7-0.17.0) in 0.27s\n"
     ]
    }
   ],
   "source": [
    "from time import sleep\n",
    "import numpy as np\n",
    "import matplotlib.pyplot as plt\n",
    "from IPython.display import Image, display\n",
    "from qcodes_contrib_drivers.drivers.QDevil import QDAC2\n",
    "qdac_addr = '192.168.8.17'\n",
    "qdac = QDAC2.QDac2('QDAC2', visalib='@py', address=f'TCPIP::{qdac_addr}::5025::SOCKET')"
   ]
  },
  {
   "cell_type": "code",
   "execution_count": 2,
   "id": "d12623a1",
   "metadata": {},
   "outputs": [],
   "source": [
    "qdac.reset()"
   ]
  },
  {
   "cell_type": "code",
   "execution_count": 3,
   "id": "03738e4f",
   "metadata": {},
   "outputs": [
    {
     "data": {
      "text/plain": [
       "'0, \"No error\"'"
      ]
     },
     "execution_count": 3,
     "metadata": {},
     "output_type": "execute_result"
    }
   ],
   "source": [
    "arrangement = qdac.arrange(\n",
    "        # QDAC channels 2 & 3 connected to the ends of two back-to-back Ge diodes\n",
    "        contacts={'diodes_left': 2, 'diodes_right': 3},\n",
    "        # Internal trigger for measuring current\n",
    "        internal_triggers={'inner'})\n",
    "inner_steps = 21\n",
    "inner_V = np.linspace(-0.3, 0.4, inner_steps)\n",
    "outer_steps = 21\n",
    "outer_V = np.linspace(-0.2, 0.5, outer_steps)\n",
    "sweep = arrangement.virtual_sweep2d(\n",
    "        inner_contact='diodes_left',\n",
    "        inner_voltages=inner_V,\n",
    "        outer_contact='diodes_right',\n",
    "        outer_voltages=outer_V,\n",
    "        inner_step_time_s=20e-3,\n",
    "        inner_step_trigger='inner')\n",
    "qdac.errors()"
   ]
  },
  {
   "cell_type": "code",
   "execution_count": 4,
   "id": "61bf6561",
   "metadata": {},
   "outputs": [
    {
     "data": {
      "text/plain": [
       "'0, \"No error\"'"
      ]
     },
     "execution_count": 4,
     "metadata": {},
     "output_type": "execute_result"
    }
   ],
   "source": [
    "# Hook up current measurement to the internal trigger produced by the sweep\n",
    "diodes = qdac.channel(2)\n",
    "diodes.clear_measurements()\n",
    "measurement = diodes.measurement()\n",
    "measurement.start_on(arrangement.get_trigger_by_name('inner'))\n",
    "qdac.errors()"
   ]
  },
  {
   "cell_type": "code",
   "execution_count": 5,
   "id": "b4ebfdce",
   "metadata": {},
   "outputs": [],
   "source": [
    "# Start sweep\n",
    "sweep.start()\n",
    "sleep(10)\n",
    "# Stop current flow\n",
    "qdac.channel(2).dc_constant_V(0)\n",
    "qdac.channel(3).dc_constant_V(0)"
   ]
  },
  {
   "cell_type": "code",
   "execution_count": 6,
   "id": "cc403579",
   "metadata": {},
   "outputs": [
    {
     "name": "stdout",
     "output_type": "stream",
     "text": [
      "442\n"
     ]
    }
   ],
   "source": [
    "sleep(3)\n",
    "raw = measurement.available_A()\n",
    "# Circumvent flaw in 0.12.0 driver\n",
    "print(len(raw))\n",
    "available = list(map(lambda x: float(x), raw[-(outer_steps * inner_steps):]))"
   ]
  },
  {
   "cell_type": "code",
   "execution_count": 7,
   "id": "b921c7d1",
   "metadata": {},
   "outputs": [
    {
     "data": {
      "image/png": "[encoded data removed]",
      "text/plain": [
       "<Figure size 432x288 with 2 Axes>"
      ]
     },
     "metadata": {
      "needs_background": "light"
     },
     "output_type": "display_data"
    }
   ],
   "source": [
    "currents = np.reshape(available, (-1, inner_steps)) * 1000\n",
    "fig, ax = plt.subplots()\n",
    "plt.title('diodes (Ge) back-to-back')\n",
    "extent = [inner_V[0],inner_V[-1],outer_V[0],outer_V[-1]]\n",
    "img = ax.imshow(currents, cmap='plasma', interpolation='nearest', extent=extent)\n",
    "ax.set_xlabel('Volt')\n",
    "ax.set_ylabel('Volt')\n",
    "colorbar = fig.colorbar(img)\n",
    "colorbar.set_label('mA')"
   ]
  }
 ],
 "metadata": {
  "kernelspec": {
   "display_name": "Python 3 (ipykernel)",
   "language": "python",
   "name": "python3"
  },
  "language_info": {
   "codemirror_mode": {
    "name": "ipython",
    "version": 3
   },
   "file_extension": ".py",
   "mimetype": "text/x-python",
   "name": "python",
   "nbconvert_exporter": "python",
   "pygments_lexer": "ipython3",
   "version": "3.8.10"
  },
  "nbsphinx": {
   "execute": "never"
  }
 },
 "nbformat": 4,
 "nbformat_minor": 5
}
