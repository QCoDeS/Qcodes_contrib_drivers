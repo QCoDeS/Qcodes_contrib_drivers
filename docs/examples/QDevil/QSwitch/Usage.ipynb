{
 "cells": [
  {
   "cell_type": "markdown",
   "id": "1d197bb4",
   "metadata": {},
   "source": [
    "# QSwitch usage"
   ]
  },
  {
   "cell_type": "code",
   "execution_count": 2,
   "id": "f2241500",
   "metadata": {},
   "outputs": [
    {
     "name": "stdout",
     "output_type": "stream",
     "text": [
      "Connected to: Quantum Machines QSwitch (serial:1, firmware:0.160) in 0.11s\n"
     ]
    }
   ],
   "source": [
    "from time import sleep as sleep_s\n",
    "import pprint\n",
    "pp = pprint.PrettyPrinter()\n",
    "import numpy as np\n",
    "import qcodes\n",
    "from qcodes_contrib_drivers.drivers.QDevil import QSwitch\n",
    "qswitch_addr = '192.168.8.20'\n",
    "qswitch = QSwitch.QSwitch('switch', visalib='@py', address=f'TCPIP::{qswitch_addr}::5025::SOCKET')"
   ]
  },
  {
   "cell_type": "code",
   "execution_count": 3,
   "id": "4af28b15",
   "metadata": {},
   "outputs": [
    {
     "data": {
      "text/plain": [
       "'(@1!0:24!0)'"
      ]
     },
     "execution_count": 3,
     "metadata": {},
     "output_type": "execute_result"
    }
   ],
   "source": [
    "qswitch.reset()\n",
    "qswitch.state()"
   ]
  },
  {
   "cell_type": "markdown",
   "id": "fc27ae03",
   "metadata": {},
   "source": [
    "State as a Python array:"
   ]
  },
  {
   "cell_type": "code",
   "execution_count": 4,
   "id": "907fa7d7",
   "metadata": {},
   "outputs": [
    {
     "data": {
      "text/plain": [
       "[(1, 0),\n",
       " (2, 0),\n",
       " (3, 0),\n",
       " (4, 0),\n",
       " (5, 0),\n",
       " (6, 0),\n",
       " (7, 0),\n",
       " (8, 0),\n",
       " (9, 0),\n",
       " (10, 0),\n",
       " (11, 0),\n",
       " (12, 0),\n",
       " (13, 0),\n",
       " (14, 0),\n",
       " (15, 0),\n",
       " (16, 0),\n",
       " (17, 0),\n",
       " (18, 0),\n",
       " (19, 0),\n",
       " (20, 0),\n",
       " (21, 0),\n",
       " (22, 0),\n",
       " (23, 0),\n",
       " (24, 0)]"
      ]
     },
     "execution_count": 4,
     "metadata": {},
     "output_type": "execute_result"
    }
   ],
   "source": [
    "qswitch.all_closed_relays()"
   ]
  },
  {
   "cell_type": "markdown",
   "id": "67fc65ed",
   "metadata": {},
   "source": [
    "Beep on error:"
   ]
  },
  {
   "cell_type": "code",
   "execution_count": 5,
   "id": "e63b8d60",
   "metadata": {},
   "outputs": [],
   "source": [
    "qswitch.error_indicator('on')"
   ]
  },
  {
   "cell_type": "markdown",
   "id": "18f2f8a7",
   "metadata": {},
   "source": [
    "## Manipulation by numbers"
   ]
  },
  {
   "cell_type": "markdown",
   "id": "759b4c6b",
   "metadata": {},
   "source": [
    "Connect and unground line 23:"
   ]
  },
  {
   "cell_type": "code",
   "execution_count": 6,
   "id": "30cee55b",
   "metadata": {},
   "outputs": [
    {
     "data": {
      "text/plain": [
       "'(@1!0:22!0,24!0,23!9)'"
      ]
     },
     "execution_count": 6,
     "metadata": {},
     "output_type": "execute_result"
    }
   ],
   "source": [
    "qswitch.close_relay(23, 9)\n",
    "qswitch.open_relay(23, 0)\n",
    "qswitch.state()"
   ]
  },
  {
   "cell_type": "markdown",
   "id": "82302e78",
   "metadata": {},
   "source": [
    "Tap off line 23 through BNC 2:"
   ]
  },
  {
   "cell_type": "code",
   "execution_count": 7,
   "id": "0aaec0d7",
   "metadata": {},
   "outputs": [
    {
     "data": {
      "text/plain": [
       "'(@1!0:22!0,24!0,23!9,23!2)'"
      ]
     },
     "execution_count": 7,
     "metadata": {},
     "output_type": "execute_result"
    }
   ],
   "source": [
    "qswitch.close_relay(23, 2)\n",
    "qswitch.state()"
   ]
  },
  {
   "cell_type": "markdown",
   "id": "26eb8b38",
   "metadata": {},
   "source": [
    "## Arrangements"
   ]
  },
  {
   "cell_type": "markdown",
   "id": "b2398daa",
   "metadata": {},
   "source": [
    "Lines and break-out BNCs can be given names.  There are specialised functions for manipulating relays by name.  For convenience, the default name of a line or BNC is just its number, so"
   ]
  },
  {
   "cell_type": "code",
   "execution_count": 8,
   "id": "b461b0ea",
   "metadata": {},
   "outputs": [],
   "source": [
    "qswitch.connect('23')\n",
    "qswitch.unground('23')\n",
    "qswitch.breakout('23', '2')"
   ]
  },
  {
   "cell_type": "markdown",
   "id": "d5f1e984",
   "metadata": {},
   "source": [
    "is equivalent to"
   ]
  },
  {
   "cell_type": "code",
   "execution_count": 9,
   "id": "41bf3d3b",
   "metadata": {},
   "outputs": [],
   "source": [
    "qswitch.close_relay(23, 9)\n",
    "qswitch.open_relay(23, 0)\n",
    "qswitch.close_relay(23, 2)"
   ]
  },
  {
   "cell_type": "markdown",
   "id": "7f2c07c0",
   "metadata": {},
   "source": [
    "To give names to lines or BNCs, use `arrange`:"
   ]
  },
  {
   "cell_type": "code",
   "execution_count": 10,
   "id": "4228109a",
   "metadata": {},
   "outputs": [],
   "source": [
    "qswitch.arrange(\n",
    "    # BNC 2 connected to DMM, BNC 7 to VNA\n",
    "    breakouts={'DMM': 5, 'VNA': 7},\n",
    "    # Give names to lines 23 & 5\n",
    "    lines={'plunger': 23, 'sensor': 5})"
   ]
  },
  {
   "cell_type": "code",
   "execution_count": 11,
   "id": "e0798316",
   "metadata": {},
   "outputs": [
    {
     "data": {
      "text/plain": [
       "'0,\"No error\"'"
      ]
     },
     "execution_count": 11,
     "metadata": {},
     "output_type": "execute_result"
    }
   ],
   "source": [
    "qswitch.connect('sensor')\n",
    "qswitch.breakout('sensor', 'DMM')\n",
    "qswitch.unground('sensor')\n",
    "qswitch.errors()"
   ]
  },
  {
   "cell_type": "code",
   "execution_count": 12,
   "id": "dfde3567",
   "metadata": {},
   "outputs": [
    {
     "data": {
      "text/plain": [
       "'(@1!0:4!0,6!0:22!0,24!0,5!9,23!9,23!2,5!5)'"
      ]
     },
     "execution_count": 12,
     "metadata": {},
     "output_type": "execute_result"
    }
   ],
   "source": [
    "qswitch.state()"
   ]
  },
  {
   "cell_type": "markdown",
   "id": "312277de",
   "metadata": {},
   "source": [
    "Manipulate several lines at once:"
   ]
  },
  {
   "cell_type": "code",
   "execution_count": 12,
   "id": "12d54bc6",
   "metadata": {},
   "outputs": [
    {
     "data": {
      "text/plain": [
       "'(@6!0:7!0,9!0,13!0:22!0,24!0,23!2,5!5,5!9,23!9)'"
      ]
     },
     "execution_count": 12,
     "metadata": {},
     "output_type": "execute_result"
    }
   ],
   "source": [
    "qswitch.unground(map(str,[1,2,3,4,5,8,10,11,12]))\n",
    "qswitch.disconnect(map(str,range(14, 21+1)))\n",
    "qswitch.state()"
   ]
  },
  {
   "cell_type": "markdown",
   "id": "e8fbc6a2",
   "metadata": {},
   "source": [
    "## Monitors"
   ]
  },
  {
   "cell_type": "markdown",
   "id": "775eade2",
   "metadata": {},
   "source": [
    "There is a pseudo parameter dedicated to monitoring:"
   ]
  },
  {
   "cell_type": "code",
   "execution_count": 13,
   "id": "a498da24",
   "metadata": {},
   "outputs": [
    {
     "data": {
      "text/plain": [
       "{'6': ['grounded'],\n",
       " '7': ['grounded'],\n",
       " '9': ['grounded'],\n",
       " '13': ['grounded'],\n",
       " '14': ['grounded'],\n",
       " '15': ['grounded'],\n",
       " '16': ['grounded'],\n",
       " '17': ['grounded'],\n",
       " '18': ['grounded'],\n",
       " '19': ['grounded'],\n",
       " '20': ['grounded'],\n",
       " '21': ['grounded'],\n",
       " '22': ['grounded'],\n",
       " '24': ['grounded'],\n",
       " 'plunger': ['breakout 2', 'connected'],\n",
       " 'sensor': ['breakout DMM', 'connected']}"
      ]
     },
     "execution_count": 13,
     "metadata": {},
     "output_type": "execute_result"
    }
   ],
   "source": [
    "qswitch.overview()"
   ]
  },
  {
   "cell_type": "code",
   "execution_count": 14,
   "id": "e6b94d1d",
   "metadata": {},
   "outputs": [],
   "source": [
    "monitor = qcodes.Monitor(qswitch.overview)"
   ]
  },
  {
   "cell_type": "markdown",
   "id": "e04c895b",
   "metadata": {},
   "source": [
    "## Autosave"
   ]
  },
  {
   "cell_type": "markdown",
   "id": "bf8c7612",
   "metadata": {},
   "source": [
    "When turning on autosave, the state will be restored over restart."
   ]
  },
  {
   "cell_type": "code",
   "execution_count": 16,
   "id": "acfc7737",
   "metadata": {},
   "outputs": [],
   "source": [
    "qswitch.auto_save('on')\n",
    "qswitch.auto_save('off')"
   ]
  }
 ],
 "metadata": {
  "kernelspec": {
   "display_name": "Python 3 (ipykernel)",
   "language": "python",
   "name": "python3"
  },
  "language_info": {
   "codemirror_mode": {
    "name": "ipython",
    "version": 3
   },
   "file_extension": ".py",
   "mimetype": "text/x-python",
   "name": "python",
   "nbconvert_exporter": "python",
   "pygments_lexer": "ipython3",
   "version": "3.10.12"
  },
  "nbsphinx": {
   "execute": "never"
  }
 },
 "nbformat": 4,
 "nbformat_minor": 5
}
