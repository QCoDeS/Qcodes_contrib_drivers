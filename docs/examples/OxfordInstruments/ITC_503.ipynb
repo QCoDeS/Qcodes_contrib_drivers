{
 "cells": [
  {
   "cell_type": "markdown",
   "id": "b0985491-c3b9-4944-8abb-822a4d76dada",
   "metadata": {},
   "source": [
    "# Example for Oxford Instruments Intelligent Temperature Controller Model 503"
   ]
  },
  {
   "cell_type": "code",
   "execution_count": 1,
   "id": "a7a113fb-4dfb-4b8f-bd2a-66cd27b56b04",
   "metadata": {},
   "outputs": [],
   "source": [
    "import qcodes as qc\n",
    "from qcodes import Station, load_or_create_experiment, \\\n",
    "    initialise_database, Measurement\n",
    "from qcodes.dataset.plotting import plot_by_id\n",
    "from qcodes.utils.dataset.doNd import do1d"
   ]
  },
  {
   "cell_type": "markdown",
   "id": "2e005a37-0748-4bba-b8a4-792477e4f1e0",
   "metadata": {},
   "source": [
    "# Import qcodes_contrib_drivers ITC503 driver"
   ]
  },
  {
   "cell_type": "code",
   "execution_count": 2,
   "id": "55d73bb2-5511-4308-ab63-2ace15472a46",
   "metadata": {},
   "outputs": [],
   "source": [
    "from qcodes_contrib_drivers.drivers.Oxford.ITC503 import ITC503"
   ]
  },
  {
   "cell_type": "markdown",
   "id": "d3bb73c1-e94b-402f-afa2-25dd5536829d",
   "metadata": {},
   "source": [
    "# Connect to the instrument - this case GPIB"
   ]
  },
  {
   "cell_type": "code",
   "execution_count": 3,
   "id": "7abc4615-eb4d-4596-88a3-b0e449f2b04a",
   "metadata": {},
   "outputs": [],
   "source": [
    "ITC = ITC503(name='ITC',address=\"GPIB0::24::INSTR\")"
   ]
  },
  {
   "cell_type": "code",
   "execution_count": 7,
   "id": "2d673ea9-6d99-4684-aecc-1e21a4e1794c",
   "metadata": {},
   "outputs": [
    {
     "data": {
      "text/plain": [
       "142.78"
      ]
     },
     "execution_count": 7,
     "metadata": {},
     "output_type": "execute_result"
    }
   ],
   "source": [
    "# thermometer 1 temperature in kelivin\n",
    "ITC.temp_1()"
   ]
  },
  {
   "cell_type": "code",
   "execution_count": 8,
   "id": "5a61ce84-f2a6-4794-948a-3d03a9893d5c",
   "metadata": {},
   "outputs": [
    {
     "data": {
      "text/plain": [
       "6.903"
      ]
     },
     "execution_count": 8,
     "metadata": {},
     "output_type": "execute_result"
    }
   ],
   "source": [
    "# thermometer 2 temperature in kelivin\n",
    "ITC.temp_2()"
   ]
  },
  {
   "cell_type": "code",
   "execution_count": 9,
   "id": "b8c1954a-e247-42da-9aae-40a205da7b5c",
   "metadata": {},
   "outputs": [
    {
     "data": {
      "text/plain": [
       "10.0"
      ]
     },
     "execution_count": 9,
     "metadata": {},
     "output_type": "execute_result"
    }
   ],
   "source": [
    "# thermometer 3 temperature in kelivin\n",
    "ITC.temp_3()"
   ]
  },
  {
   "cell_type": "code",
   "execution_count": 10,
   "id": "24ca9300-6de6-47a7-a0ff-b68bf696fffa",
   "metadata": {},
   "outputs": [
    {
     "name": "stdout",
     "output_type": "stream",
     "text": [
      "ITC:\n",
      "\tparameter     value\n",
      "--------------------------------------------------------------------------------\n",
      "IDN            :\tNone \n",
      "heater_mode    :\tNone \n",
      "heater_power   :\tNone (%)\n",
      "remote_mode    :\tNone \n",
      "select_heater  :\tNone \n",
      "temp_1         :\t142.78 (K)\n",
      "temp_2         :\t6.903 (K)\n",
      "temp_3         :\t10 (K)\n",
      "temp_set_point :\tNone (K)\n",
      "timeout        :\t5 (s)\n"
     ]
    }
   ],
   "source": [
    "ITC.print_readable_snapshot()"
   ]
  },
  {
   "cell_type": "code",
   "execution_count": 13,
   "id": "f13f7bef-0a2d-4f63-820c-29e5bf2f598e",
   "metadata": {},
   "outputs": [
    {
     "data": {
      "text/plain": [
       "'local_locked'"
      ]
     },
     "execution_count": 13,
     "metadata": {},
     "output_type": "execute_result"
    }
   ],
   "source": [
    "# the current mode of the controller either local_locked': 0, 'remote_locked': 1,'local_unlocked': 2,'remote_unlocked\n",
    "ITC.remote_mode()"
   ]
  },
  {
   "cell_type": "code",
   "execution_count": null,
   "id": "fe02e0c7-3a72-4218-aa34-426a0f542f62",
   "metadata": {},
   "outputs": [],
   "source": []
  },
  {
   "cell_type": "code",
   "execution_count": null,
   "id": "b497bc0e-a29b-4e6c-a93d-94150b195b44",
   "metadata": {},
   "outputs": [],
   "source": []
  }
 ],
 "metadata": {
  "kernelspec": {
   "display_name": "Python 3 (ipykernel)",
   "language": "python",
   "name": "python3"
  },
  "language_info": {
   "codemirror_mode": {
    "name": "ipython",
    "version": 3
   },
   "file_extension": ".py",
   "mimetype": "text/x-python",
   "name": "python",
   "nbconvert_exporter": "python",
   "pygments_lexer": "ipython3",
   "version": "3.11.10"
  },
   "nbsphinx": {
   "execute": "never"
  }
 },
 "nbformat": 4,
 "nbformat_minor": 5
}
