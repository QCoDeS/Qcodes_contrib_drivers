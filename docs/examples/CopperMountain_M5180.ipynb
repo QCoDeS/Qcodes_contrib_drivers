{
 "cells": [
  {
   "cell_type": "markdown",
   "id": "marked-capability",
   "metadata": {},
   "source": [
    "# Example with CopperMountain Model M5180 vector network analyzer"
   ]
  },
  {
   "cell_type": "code",
   "execution_count": 1,
   "id": "placed-maldives",
   "metadata": {},
   "outputs": [
    {
     "name": "stdout",
     "output_type": "stream",
     "text": [
      "Logging hadn't been started.\n",
      "Activating auto-logging. Current session state plus future input saved.\n",
      "Filename       : C:\\Users\\G-GRE-GRE058050\\.qcodes\\logs\\command_history.log\n",
      "Mode           : append\n",
      "Output logging : True\n",
      "Raw input log  : False\n",
      "Timestamping   : True\n",
      "State          : active\n",
      "Qcodes Logfile : C:\\Users\\G-GRE-GRE058050\\.qcodes\\logs\\210330-113772-qcodes.log\n"
     ]
    }
   ],
   "source": [
    "import qcodes as qc\n",
    "from qcodes import Station, load_or_create_experiment, \\\n",
    "    initialise_database, Measurement\n",
    "from qcodes.dataset.plotting import plot_by_id\n",
    "from qcodes.utils.dataset.doNd import do1d"
   ]
  },
  {
   "cell_type": "code",
   "execution_count": 2,
   "id": "ready-suffering",
   "metadata": {},
   "outputs": [],
   "source": [
    "from qcodes_contrib_drivers.drivers.CopperMountain.M5180 import M5180"
   ]
  },
  {
   "cell_type": "markdown",
   "id": "likely-steps",
   "metadata": {},
   "source": [
    "## Connecting to device"
   ]
  },
  {
   "cell_type": "markdown",
   "id": "statewide-carroll",
   "metadata": {},
   "source": [
    "- Install connection software S2VN, download here: https://coppermountaintech.com/download-free-vna-software-and-documentation/\n",
    "- Run the software and go to System > Misc Setup > Network Remote Control Settings and turn on HiSLIP Server"
   ]
  },
  {
   "cell_type": "code",
   "execution_count": 3,
   "id": "first-bacon",
   "metadata": {},
   "outputs": [
    {
     "name": "stdout",
     "output_type": "stream",
     "text": [
      "Connected to: CMT M5180 (serial:20107935, firmware:20.3.3/1) in 0.09s\n"
     ]
    }
   ],
   "source": [
    "vna = M5180(name='vna', address='TCPIP0::localhost::hislip0::INSTR')"
   ]
  },
  {
   "cell_type": "code",
   "execution_count": 4,
   "id": "expected-chorus",
   "metadata": {},
   "outputs": [
    {
     "name": "stdout",
     "output_type": "stream",
     "text": [
      "vna:\n",
      "\tparameter               value\n",
      "--------------------------------------------------------------------------------\n",
      "IDN                      :\t{'vendor': 'CMT', 'model': 'M5180', 'serial': '201...\n",
      "averages                 :\t1 \n",
      "averages_enabled         :\tTrue \n",
      "averages_trigger_enabled :\tTrue \n",
      "center                   :\t1.0005e+09 (Hz)\n",
      "data_transfer_format     :\tASC \n",
      "if_bandwidth             :\t10000 (Hz)\n",
      "nb_traces                :\t4 \n",
      "npts                     :\t2001 \n",
      "output                   :\tTrue \n",
      "point_s11                :\tNot available (('dB', 'rad'))\n",
      "point_s12                :\tNot available (('dB', 'rad'))\n",
      "point_s21                :\tNot available (('dB', 'rad'))\n",
      "point_s22                :\tNot available (('dB', 'rad'))\n",
      "power                    :\t-20 (dBm)\n",
      "s11                      :\tNot available (('dB', 'rad'))\n",
      "s12                      :\tNot available (('dB', 'rad'))\n",
      "s21                      :\tNot available (('dB', 'rad'))\n",
      "s22                      :\tNot available (('dB', 'rad'))\n",
      "span                     :\t1.999e+09 (Hz)\n",
      "start                    :\t1e+06 (Hz)\n",
      "stop                     :\t2e+09 (Hz)\n",
      "timeout                  :\t1e+05 (s)\n",
      "trigger_source           :\tbus \n"
     ]
    }
   ],
   "source": [
    "# Let's look at all parameters\n",
    "vna.print_readable_snapshot(update=True)"
   ]
  },
  {
   "cell_type": "markdown",
   "id": "emerging-improvement",
   "metadata": {},
   "source": [
    "# Setup db and station for test measurerment"
   ]
  },
  {
   "cell_type": "code",
   "execution_count": 5,
   "id": "rural-genealogy",
   "metadata": {},
   "outputs": [],
   "source": [
    "# create an empty database based on the config file\n",
    "qc.initialise_or_create_database_at('./test_copper_mountain.db')"
   ]
  },
  {
   "cell_type": "code",
   "execution_count": 6,
   "id": "recreational-fight",
   "metadata": {},
   "outputs": [],
   "source": [
    "exp = load_or_create_experiment(experiment_name='testing_coppermountain_driver',\n",
    "                          sample_name=\"band_pass_filter\")"
   ]
  },
  {
   "cell_type": "code",
   "execution_count": 7,
   "id": "marine-dependence",
   "metadata": {},
   "outputs": [],
   "source": [
    "station = qc.Station(vna)"
   ]
  },
  {
   "cell_type": "markdown",
   "id": "boring-router",
   "metadata": {},
   "source": [
    "## Measure a trace"
   ]
  },
  {
   "cell_type": "code",
   "execution_count": 8,
   "id": "southeast-client",
   "metadata": {},
   "outputs": [],
   "source": [
    "# Turn on the RF output\n",
    "vna.output('on')"
   ]
  },
  {
   "cell_type": "code",
   "execution_count": 9,
   "id": "stretch-survey",
   "metadata": {},
   "outputs": [
    {
     "name": "stdout",
     "output_type": "stream",
     "text": [
      "Starting experimental run with id: 2. \n"
     ]
    },
    {
     "data": {
      "image/png": "[encoded data removed]",
      "text/plain": [
       "<Figure size 432x288 with 1 Axes>"
      ]
     },
     "metadata": {
      "needs_background": "light"
     },
     "output_type": "display_data"
    },
    {
     "data": {
      "image/png": "[encoded data removed]",
      "text/plain": [
       "<Figure size 432x288 with 1 Axes>"
      ]
     },
     "metadata": {
      "needs_background": "light"
     },
     "output_type": "display_data"
    }
   ],
   "source": [
    "# define sweep parameters\n",
    "vna.power(-20)\n",
    "vna.start(1e6)\n",
    "vna.stop(2e9)\n",
    "vna.if_bandwidth(10e3)\n",
    "vna.npts(2001)\n",
    "vna.averages(1)\n",
    "# do measurement\n",
    "meas = Measurement()\n",
    "meas.register_parameter(vna.s12)\n",
    "with meas.run() as datasaver:\n",
    "    datasaver.add_result((vna.s12, vna.s12()))\n",
    "ax, cbax = plot_by_id(datasaver.run_id)"
   ]
  },
  {
   "cell_type": "code",
   "execution_count": 10,
   "id": "exterior-moderator",
   "metadata": {},
   "outputs": [
    {
     "data": {
      "text/plain": [
       "(array([-0.0477012 , -0.09391321, -0.17265479, ..., -0.03038562,\n",
       "        -0.03399903, -0.0214076 ]),\n",
       " array([-0.01097229, -0.01708669, -0.01996385, ..., -3.17442979,\n",
       "        -3.17352842, -3.17585808]))"
      ]
     },
     "execution_count": 10,
     "metadata": {},
     "output_type": "execute_result"
    }
   ],
   "source": [
    "# Similarly, other S-paramters can be queried\n",
    "vna.s11()"
   ]
  },
  {
   "cell_type": "code",
   "execution_count": 11,
   "id": "least-blond",
   "metadata": {},
   "outputs": [
    {
     "data": {
      "text/plain": [
       "(array([-64.03521817, -72.72068274, -74.92402692, ..., -77.23523101,\n",
       "        -77.87500527, -86.19919018]),\n",
       " array([ -1.46406748,  -3.23681928,  -2.86312445, ..., -47.37145838,\n",
       "        -48.20720528, -45.34542698]))"
      ]
     },
     "execution_count": 11,
     "metadata": {},
     "output_type": "execute_result"
    }
   ],
   "source": [
    "vna.s12()"
   ]
  },
  {
   "cell_type": "code",
   "execution_count": 12,
   "id": "interesting-patio",
   "metadata": {},
   "outputs": [
    {
     "data": {
      "text/plain": [
       "(array([-77.09130151, -72.57583366, -74.71111513, ..., -69.62992638,\n",
       "        -86.6484703 , -72.85211098]),\n",
       " array([-1.80363488, -0.96240925, -0.83102692, ..., 32.98620611,\n",
       "        34.25529117, 36.06598604]))"
      ]
     },
     "execution_count": 12,
     "metadata": {},
     "output_type": "execute_result"
    }
   ],
   "source": [
    "vna.s21()"
   ]
  },
  {
   "cell_type": "code",
   "execution_count": 13,
   "id": "australian-train",
   "metadata": {},
   "outputs": [
    {
     "data": {
      "text/plain": [
       "(array([ 0.00305115, -0.06177799, -0.15385378, ..., -0.02385243,\n",
       "        -0.02926526, -0.02279546]),\n",
       " array([-0.01547223, -0.02163175, -0.02391645, ..., -3.18152415,\n",
       "        -3.18361572, -3.18402174]))"
      ]
     },
     "execution_count": 13,
     "metadata": {},
     "output_type": "execute_result"
    }
   ],
   "source": [
    "vna.s22()"
   ]
  },
  {
   "cell_type": "code",
   "execution_count": 14,
   "id": "future-airplane",
   "metadata": {},
   "outputs": [
    {
     "data": {
      "text/plain": [
       "(array([1.0000000e+06, 1.9995000e+06, 2.9990000e+06, ..., 1.9980010e+09,\n",
       "        1.9990005e+09, 2.0000000e+09]),\n",
       " array([-0.03160302, -0.10392121, -0.17598948, ..., -0.02083835,\n",
       "        -0.02544277, -0.02948864]),\n",
       " array([-0.01215209, -0.01844561, -0.01988006, ...,  3.11017192,\n",
       "         3.10721224,  3.10526495]),\n",
       " array([-68.03181706, -69.96986101, -84.366874  , ..., -70.94278538,\n",
       "        -79.11469549, -77.38634014]),\n",
       " array([ 2.24117547,  2.60915241,  0.78312326, ..., -2.20522653,\n",
       "        -2.38599278, -1.49447507]),\n",
       " array([-83.2538078 , -67.23946765, -73.17241871, ..., -75.89235284,\n",
       "        -80.80017483, -81.72715481]),\n",
       " array([ 3.1331486 ,  2.56154342, -0.36192594, ...,  0.23860211,\n",
       "        -1.37759455,  2.75163547]),\n",
       " array([ 0.00655536, -0.06872062, -0.14529468, ..., -0.02987041,\n",
       "        -0.01884765, -0.02839042]),\n",
       " array([-0.01384824, -0.02119365, -0.02357165, ...,  3.10193855,\n",
       "         3.10032872,  3.09917688]))"
      ]
     },
     "execution_count": 14,
     "metadata": {},
     "output_type": "execute_result"
    }
   ],
   "source": [
    "# or all S-parameters at once. Attention this is not a qcodes parameter\n",
    "vna.get_s()"
   ]
  },
  {
   "cell_type": "markdown",
   "id": "unnecessary-coordinate",
   "metadata": {},
   "source": [
    "# Look at the names and the labels of the Sxx parameters"
   ]
  },
  {
   "cell_type": "code",
   "execution_count": 15,
   "id": "burning-tuition",
   "metadata": {},
   "outputs": [
    {
     "data": {
      "text/plain": [
       "('vna s11 magnitude', 'vna s11 phase')"
      ]
     },
     "execution_count": 15,
     "metadata": {},
     "output_type": "execute_result"
    }
   ],
   "source": [
    "vna.s11.labels"
   ]
  },
  {
   "cell_type": "code",
   "execution_count": 16,
   "id": "plain-frederick",
   "metadata": {},
   "outputs": [
    {
     "data": {
      "text/plain": [
       "('vna_s11_magnitude', 'vna_s11_phase')"
      ]
     },
     "execution_count": 16,
     "metadata": {},
     "output_type": "execute_result"
    }
   ],
   "source": [
    "vna.s11.names"
   ]
  },
  {
   "cell_type": "code",
   "execution_count": 17,
   "id": "circular-attack",
   "metadata": {},
   "outputs": [
    {
     "data": {
      "text/plain": [
       "(('vna frequency',), ('vna frequency',))"
      ]
     },
     "execution_count": 17,
     "metadata": {},
     "output_type": "execute_result"
    }
   ],
   "source": [
    "vna.s11.setpoint_labels"
   ]
  },
  {
   "cell_type": "code",
   "execution_count": 18,
   "id": "comparable-salem",
   "metadata": {},
   "outputs": [
    {
     "data": {
      "text/plain": [
       "(('vna_frequency',), ('vna_frequency',))"
      ]
     },
     "execution_count": 18,
     "metadata": {},
     "output_type": "execute_result"
    }
   ],
   "source": [
    "vna.s11.setpoint_names"
   ]
  }
 ],
 "metadata": {
  "kernelspec": {
   "display_name": "Python 3",
   "language": "python",
   "name": "python3"
  },
  "language_info": {
   "codemirror_mode": {
    "name": "ipython",
    "version": 3
   },
   "file_extension": ".py",
   "mimetype": "text/x-python",
   "name": "python",
   "nbconvert_exporter": "python",
   "pygments_lexer": "ipython3",
   "version": "3.8.8"
  },
  "nbsphinx": {
   "execute": "never"
  },
  "toc": {
   "base_numbering": 1,
   "nav_menu": {},
   "number_sections": true,
   "sideBar": true,
   "skip_h1_title": false,
   "title_cell": "Table of Contents",
   "title_sidebar": "Contents",
   "toc_cell": false,
   "toc_position": {},
   "toc_section_display": true,
   "toc_window_display": false
  }
 },
 "nbformat": 4,
 "nbformat_minor": 5
}
