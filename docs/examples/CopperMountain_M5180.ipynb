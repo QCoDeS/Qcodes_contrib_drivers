{
 "cells": [
  {
   "cell_type": "markdown",
   "id": "marked-capability",
   "metadata": {},
   "source": [
    "# Example with CopperMountain Model M5180 vector network analyzer"
   ]
  },
  {
   "cell_type": "code",
   "execution_count": 1,
   "id": "placed-maldives",
   "metadata": {},
   "outputs": [
    {
     "name": "stdout",
     "output_type": "stream",
     "text": [
      "Logging hadn't been started.\n",
      "Activating auto-logging. Current session state plus future input saved.\n",
      "Filename       : C:\\Users\\G-GRE-GRE058050\\.qcodes\\logs\\command_history.log\n",
      "Mode           : append\n",
      "Output logging : True\n",
      "Raw input log  : False\n",
      "Timestamping   : True\n",
      "State          : active\n",
      "Qcodes Logfile : C:\\Users\\G-GRE-GRE058050\\.qcodes\\logs\\210226-17224-qcodes.log\n"
     ]
    }
   ],
   "source": [
    "import qcodes as qc"
   ]
  },
  {
   "cell_type": "code",
   "execution_count": 2,
   "id": "ready-suffering",
   "metadata": {},
   "outputs": [],
   "source": [
    "from qcodes_contrib_drivers.drivers.CopperMountain.M5180 import M5180"
   ]
  },
  {
   "cell_type": "markdown",
   "id": "likely-steps",
   "metadata": {},
   "source": [
    "## Connecting to device"
   ]
  },
  {
   "cell_type": "markdown",
   "id": "statewide-carroll",
   "metadata": {},
   "source": [
    "- Install connection software S2VN, download here: https://coppermountaintech.com/download-free-vna-software-and-documentation/\n",
    "- Run the software and go to System > Misc Setup > Network Remote Control Settings and turn on HiSLIP Server"
   ]
  },
  {
   "cell_type": "code",
   "execution_count": 3,
   "id": "first-bacon",
   "metadata": {},
   "outputs": [
    {
     "name": "stdout",
     "output_type": "stream",
     "text": [
      "Connected to: CMT M5180 (serial:20107935, firmware:20.3.3/1) in 0.07s\n"
     ]
    }
   ],
   "source": [
    "vna = M5180(name='vna', address='TCPIP0::localhost::hislip0::INSTR')"
   ]
  },
  {
   "cell_type": "code",
   "execution_count": 4,
   "id": "expected-chorus",
   "metadata": {},
   "outputs": [
    {
     "name": "stdout",
     "output_type": "stream",
     "text": [
      "vna:\n",
      "\tparameter           value\n",
      "--------------------------------------------------------------------------------\n",
      "IDN                  :\t{'vendor': 'CMT', 'model': 'M5180', 'serial': '2010793...\n",
      "center_frequency     :\t1.5e+09 (Hz)\n",
      "data_transfer_format :\tASC \n",
      "if_bandwidth         :\t1000 (Hz)\n",
      "nb_points            :\t201 \n",
      "nb_traces            :\t1 \n",
      "output               :\ton \n",
      "power                :\t-20 (dBm)\n",
      "span_frequency       :\t1e+09 (Hz)\n",
      "start_frequency      :\t1e+09 (Hz)\n",
      "stop_frequency       :\t2e+09 (Hz)\n",
      "timeout              :\t1e+05 (s)\n",
      "trigger_source       :\tbus \n"
     ]
    }
   ],
   "source": [
    "# Let's look at all parameters\n",
    "vna.print_readable_snapshot(update=True)"
   ]
  },
  {
   "cell_type": "markdown",
   "id": "boring-router",
   "metadata": {},
   "source": [
    "## Measure a trace"
   ]
  },
  {
   "cell_type": "code",
   "execution_count": 5,
   "id": "stretch-survey",
   "metadata": {},
   "outputs": [],
   "source": [
    "# define sweep parameters\n",
    "vna.start_frequency(1e9)\n",
    "vna.stop_frequency(2e9)\n",
    "vna.if_bandwidth(1e3)\n",
    "vna.power(-20)"
   ]
  },
  {
   "cell_type": "code",
   "execution_count": 6,
   "id": "center-atlanta",
   "metadata": {},
   "outputs": [],
   "source": [
    "# turn on the output\n",
    "vna.output('on')"
   ]
  },
  {
   "cell_type": "code",
   "execution_count": 7,
   "id": "exposed-bandwidth",
   "metadata": {},
   "outputs": [
    {
     "data": {
      "text/plain": [
       "'on'"
      ]
     },
     "execution_count": 7,
     "metadata": {},
     "output_type": "execute_result"
    }
   ],
   "source": [
    "vna.output()"
   ]
  },
  {
   "cell_type": "code",
   "execution_count": 8,
   "id": "alternate-hands",
   "metadata": {},
   "outputs": [],
   "source": [
    "# set trigger tu bus\n",
    "vna.trigger_source('bus')"
   ]
  },
  {
   "cell_type": "code",
   "execution_count": 9,
   "id": "animal-blood",
   "metadata": {},
   "outputs": [
    {
     "data": {
      "text/plain": [
       "'bus'"
      ]
     },
     "execution_count": 9,
     "metadata": {},
     "output_type": "execute_result"
    }
   ],
   "source": [
    "vna.trigger_source()"
   ]
  },
  {
   "cell_type": "code",
   "execution_count": 10,
   "id": "streaming-chemical",
   "metadata": {},
   "outputs": [
    {
     "name": "stderr",
     "output_type": "stream",
     "text": [
      "2021-02-26 17:47:35,385 ¦ py.warnings ¦ WARNING ¦ warnings ¦ _showwarnmsg ¦ 109 ¦ c:\\users\\g-gre-gre058050\\qcodes_contrib_drivers\\qcodes_contrib_drivers\\drivers\\CopperMountain\\M5180.py:330: RuntimeWarning: divide by zero encountered in log10\n",
      "  return 20.*np.log10(np.abs(data))\n",
      "\n"
     ]
    },
    {
     "data": {
      "text/plain": [
       "(array([1.000e+09, 1.005e+09, 1.010e+09, 1.015e+09, 1.020e+09, 1.025e+09,\n",
       "        1.030e+09, 1.035e+09, 1.040e+09, 1.045e+09, 1.050e+09, 1.055e+09,\n",
       "        1.060e+09, 1.065e+09, 1.070e+09, 1.075e+09, 1.080e+09, 1.085e+09,\n",
       "        1.090e+09, 1.095e+09, 1.100e+09, 1.105e+09, 1.110e+09, 1.115e+09,\n",
       "        1.120e+09, 1.125e+09, 1.130e+09, 1.135e+09, 1.140e+09, 1.145e+09,\n",
       "        1.150e+09, 1.155e+09, 1.160e+09, 1.165e+09, 1.170e+09, 1.175e+09,\n",
       "        1.180e+09, 1.185e+09, 1.190e+09, 1.195e+09, 1.200e+09, 1.205e+09,\n",
       "        1.210e+09, 1.215e+09, 1.220e+09, 1.225e+09, 1.230e+09, 1.235e+09,\n",
       "        1.240e+09, 1.245e+09, 1.250e+09, 1.255e+09, 1.260e+09, 1.265e+09,\n",
       "        1.270e+09, 1.275e+09, 1.280e+09, 1.285e+09, 1.290e+09, 1.295e+09,\n",
       "        1.300e+09, 1.305e+09, 1.310e+09, 1.315e+09, 1.320e+09, 1.325e+09,\n",
       "        1.330e+09, 1.335e+09, 1.340e+09, 1.345e+09, 1.350e+09, 1.355e+09,\n",
       "        1.360e+09, 1.365e+09, 1.370e+09, 1.375e+09, 1.380e+09, 1.385e+09,\n",
       "        1.390e+09, 1.395e+09, 1.400e+09, 1.405e+09, 1.410e+09, 1.415e+09,\n",
       "        1.420e+09, 1.425e+09, 1.430e+09, 1.435e+09, 1.440e+09, 1.445e+09,\n",
       "        1.450e+09, 1.455e+09, 1.460e+09, 1.465e+09, 1.470e+09, 1.475e+09,\n",
       "        1.480e+09, 1.485e+09, 1.490e+09, 1.495e+09, 1.500e+09, 1.505e+09,\n",
       "        1.510e+09, 1.515e+09, 1.520e+09, 1.525e+09, 1.530e+09, 1.535e+09,\n",
       "        1.540e+09, 1.545e+09, 1.550e+09, 1.555e+09, 1.560e+09, 1.565e+09,\n",
       "        1.570e+09, 1.575e+09, 1.580e+09, 1.585e+09, 1.590e+09, 1.595e+09,\n",
       "        1.600e+09, 1.605e+09, 1.610e+09, 1.615e+09, 1.620e+09, 1.625e+09,\n",
       "        1.630e+09, 1.635e+09, 1.640e+09, 1.645e+09, 1.650e+09, 1.655e+09,\n",
       "        1.660e+09, 1.665e+09, 1.670e+09, 1.675e+09, 1.680e+09, 1.685e+09,\n",
       "        1.690e+09, 1.695e+09, 1.700e+09, 1.705e+09, 1.710e+09, 1.715e+09,\n",
       "        1.720e+09, 1.725e+09, 1.730e+09, 1.735e+09, 1.740e+09, 1.745e+09,\n",
       "        1.750e+09, 1.755e+09, 1.760e+09, 1.765e+09, 1.770e+09, 1.775e+09,\n",
       "        1.780e+09, 1.785e+09, 1.790e+09, 1.795e+09, 1.800e+09, 1.805e+09,\n",
       "        1.810e+09, 1.815e+09, 1.820e+09, 1.825e+09, 1.830e+09, 1.835e+09,\n",
       "        1.840e+09, 1.845e+09, 1.850e+09, 1.855e+09, 1.860e+09, 1.865e+09,\n",
       "        1.870e+09, 1.875e+09, 1.880e+09, 1.885e+09, 1.890e+09, 1.895e+09,\n",
       "        1.900e+09, 1.905e+09, 1.910e+09, 1.915e+09, 1.920e+09, 1.925e+09,\n",
       "        1.930e+09, 1.935e+09, 1.940e+09, 1.945e+09, 1.950e+09, 1.955e+09,\n",
       "        1.960e+09, 1.965e+09, 1.970e+09, 1.975e+09, 1.980e+09, 1.985e+09,\n",
       "        1.990e+09, 1.995e+09, 2.000e+09]),\n",
       " array([-inf, -inf, -inf, -inf, -inf, -inf, -inf, -inf, -inf, -inf, -inf,\n",
       "        -inf, -inf, -inf, -inf, -inf, -inf, -inf, -inf, -inf, -inf, -inf,\n",
       "        -inf, -inf, -inf, -inf, -inf, -inf, -inf, -inf, -inf, -inf, -inf,\n",
       "        -inf, -inf, -inf, -inf, -inf, -inf, -inf, -inf, -inf, -inf, -inf,\n",
       "        -inf, -inf, -inf, -inf, -inf, -inf, -inf, -inf, -inf, -inf, -inf,\n",
       "        -inf, -inf, -inf, -inf, -inf, -inf, -inf, -inf, -inf, -inf, -inf,\n",
       "        -inf, -inf, -inf, -inf, -inf, -inf, -inf, -inf, -inf, -inf, -inf,\n",
       "        -inf, -inf, -inf, -inf, -inf, -inf, -inf, -inf, -inf, -inf, -inf,\n",
       "        -inf, -inf, -inf, -inf, -inf, -inf, -inf, -inf, -inf, -inf, -inf,\n",
       "        -inf, -inf, -inf, -inf, -inf, -inf, -inf, -inf, -inf, -inf, -inf,\n",
       "        -inf, -inf, -inf, -inf, -inf, -inf, -inf, -inf, -inf, -inf, -inf,\n",
       "        -inf, -inf, -inf, -inf, -inf, -inf, -inf, -inf, -inf, -inf, -inf,\n",
       "        -inf, -inf, -inf, -inf, -inf, -inf, -inf, -inf, -inf, -inf, -inf,\n",
       "        -inf, -inf, -inf, -inf, -inf, -inf, -inf, -inf, -inf, -inf, -inf,\n",
       "        -inf, -inf, -inf, -inf, -inf, -inf, -inf, -inf, -inf, -inf, -inf,\n",
       "        -inf, -inf, -inf, -inf, -inf, -inf, -inf, -inf, -inf, -inf, -inf,\n",
       "        -inf, -inf, -inf, -inf, -inf, -inf, -inf, -inf, -inf, -inf, -inf,\n",
       "        -inf, -inf, -inf, -inf, -inf, -inf, -inf, -inf, -inf, -inf, -inf,\n",
       "        -inf, -inf, -inf]),\n",
       " array([0., 0., 0., 0., 0., 0., 0., 0., 0., 0., 0., 0., 0., 0., 0., 0., 0.,\n",
       "        0., 0., 0., 0., 0., 0., 0., 0., 0., 0., 0., 0., 0., 0., 0., 0., 0.,\n",
       "        0., 0., 0., 0., 0., 0., 0., 0., 0., 0., 0., 0., 0., 0., 0., 0., 0.,\n",
       "        0., 0., 0., 0., 0., 0., 0., 0., 0., 0., 0., 0., 0., 0., 0., 0., 0.,\n",
       "        0., 0., 0., 0., 0., 0., 0., 0., 0., 0., 0., 0., 0., 0., 0., 0., 0.,\n",
       "        0., 0., 0., 0., 0., 0., 0., 0., 0., 0., 0., 0., 0., 0., 0., 0., 0.,\n",
       "        0., 0., 0., 0., 0., 0., 0., 0., 0., 0., 0., 0., 0., 0., 0., 0., 0.,\n",
       "        0., 0., 0., 0., 0., 0., 0., 0., 0., 0., 0., 0., 0., 0., 0., 0., 0.,\n",
       "        0., 0., 0., 0., 0., 0., 0., 0., 0., 0., 0., 0., 0., 0., 0., 0., 0.,\n",
       "        0., 0., 0., 0., 0., 0., 0., 0., 0., 0., 0., 0., 0., 0., 0., 0., 0.,\n",
       "        0., 0., 0., 0., 0., 0., 0., 0., 0., 0., 0., 0., 0., 0., 0., 0., 0.,\n",
       "        0., 0., 0., 0., 0., 0., 0., 0., 0., 0., 0., 0., 0., 0.]))"
      ]
     },
     "execution_count": 10,
     "metadata": {},
     "output_type": "execute_result"
    }
   ],
   "source": [
    "# get S11\n",
    "vna.get_s11()"
   ]
  },
  {
   "cell_type": "code",
   "execution_count": null,
   "id": "potential-transcript",
   "metadata": {},
   "outputs": [],
   "source": []
  }
 ],
 "metadata": {
  "kernelspec": {
   "display_name": "Python 3",
   "language": "python",
   "name": "python3"
  },
  "language_info": {
   "codemirror_mode": {
    "name": "ipython",
    "version": 3
   },
   "file_extension": ".py",
   "mimetype": "text/x-python",
   "name": "python",
   "nbconvert_exporter": "python",
   "pygments_lexer": "ipython3",
   "version": "3.8.8"
  },
  "nbsphinx": {
   "execute": "never"
  },
  "toc": {
   "base_numbering": 1,
   "nav_menu": {},
   "number_sections": true,
   "sideBar": true,
   "skip_h1_title": false,
   "title_cell": "Table of Contents",
   "title_sidebar": "Contents",
   "toc_cell": false,
   "toc_position": {},
   "toc_section_display": true,
   "toc_window_display": false
  }
 },
 "nbformat": 4,
 "nbformat_minor": 5
}
