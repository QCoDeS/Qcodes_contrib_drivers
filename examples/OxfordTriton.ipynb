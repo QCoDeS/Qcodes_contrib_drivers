{
 "cells": [
  {
   "cell_type": "markdown",
   "metadata": {},
   "source": [
    "# Example of the oxford triton driver"
   ]
  },
  {
   "cell_type": "markdown",
   "metadata": {},
   "source": [
    "## Imports"
   ]
  },
  {
   "cell_type": "code",
   "execution_count": 1,
   "metadata": {},
   "outputs": [
    {
     "name": "stdout",
     "output_type": "stream",
     "text": [
      "Logging hadn't been started.\n",
      "Activating auto-logging. Current session state plus future input saved.\n",
      "Filename       : C:\\Users\\ed261978\\.qcodes\\logs\\command_history.log\n",
      "Mode           : append\n",
      "Output logging : True\n",
      "Raw input log  : False\n",
      "Timestamping   : True\n",
      "State          : active\n",
      "Qcodes Logfile : C:\\Users\\ed261978\\.qcodes\\logs\\201007-9328-qcodes.log\n"
     ]
    }
   ],
   "source": [
    "import qcodes as qc\n",
    "from Triton import Triton"
   ]
  },
  {
   "cell_type": "markdown",
   "metadata": {},
   "source": [
    "##  Load instrument"
   ]
  },
  {
   "cell_type": "code",
   "execution_count": 2,
   "metadata": {},
   "outputs": [
    {
     "name": "stdout",
     "output_type": "stream",
     "text": [
      "Connected to: None triton (serial:None, firmware:None) in 0.00s\n"
     ]
    }
   ],
   "source": [
    "triton = Triton(name='triton',\n",
    "                file_path='log/20201005.vcl',\n",
    "                magnet=True)"
   ]
  },
  {
   "cell_type": "markdown",
   "metadata": {},
   "source": [
    "## Readout instrument parameters"
   ]
  },
  {
   "cell_type": "code",
   "execution_count": 3,
   "metadata": {},
   "outputs": [
    {
     "name": "stdout",
     "output_type": "stream",
     "text": [
      "295.94393629146197\n",
      "295.622032281476\n",
      "282.72965240364397\n",
      "39.9949711258109\n",
      "39.9949711258109\n",
      "295.115153276995\n"
     ]
    }
   ],
   "source": [
    "print(triton.temperature_50k_plate())\n",
    "print(triton.temperature_4k_plate())\n",
    "print(triton.temperature_magnet())\n",
    "print(triton.temperature_still())\n",
    "print(triton.temperature_100mk())\n",
    "print(triton.temperature_mixing_chamber())"
   ]
  },
  {
   "cell_type": "code",
   "execution_count": 4,
   "metadata": {},
   "outputs": [
    {
     "name": "stdout",
     "output_type": "stream",
     "text": [
      "0.420131839019814\n",
      "0.0630699567828778\n",
      "0.697571356918492\n"
     ]
    }
   ],
   "source": [
    "print(triton.pressure_condensation_line())\n",
    "print(triton.pressure_forepump_back())\n",
    "print(triton.pressure_mixture_tank())"
   ]
  }
 ],
 "metadata": {
  "kernelspec": {
   "display_name": "Python 3",
   "language": "python",
   "name": "python3"
  },
  "language_info": {
   "codemirror_mode": {
    "name": "ipython",
    "version": 3
   },
   "file_extension": ".py",
   "mimetype": "text/x-python",
   "name": "python",
   "nbconvert_exporter": "python",
   "pygments_lexer": "ipython3",
   "version": "3.7.7"
  },
  "nbsphinx": {
   "execute": "never"
  }
 },
 "nbformat": 4,
 "nbformat_minor": 4
}
