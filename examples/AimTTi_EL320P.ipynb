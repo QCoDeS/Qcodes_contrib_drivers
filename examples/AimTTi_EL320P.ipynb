{
 "cells": [
  {
   "cell_type": "markdown",
   "metadata": {},
   "source": [
    "Example notebook for AimTTi EL320P\n",
    "==============================\n",
    "\n",
    "### This is the power supply used for the Bluefors 4 K stage warmup heater."
   ]
  },
  {
   "cell_type": "markdown",
   "metadata": {},
   "source": [
    "The [AimTTi ELP320](https://www.aimtti.com/product-category/dc-power-supplies/aim-el-rseries) a simple linearly-regulated DC power supply supporting constant current or constant voltage operation. The EL320P in particular can source 2 A at 30 V."
   ]
  },
  {
   "cell_type": "code",
   "execution_count": null,
   "metadata": {},
   "outputs": [],
   "source": [
    "from qcodes_contrib_drivers.drivers.AimTTi.EL320P import EL320P"
   ]
  },
  {
   "cell_type": "markdown",
   "metadata": {},
   "source": [
    "Apply 60 Watts to the 4 K stage during fridge warmup."
   ]
  },
  {
   "cell_type": "code",
   "execution_count": null,
   "metadata": {},
   "outputs": [],
   "source": [
    "heater_addr = 'ASRL3::INSTR'\n",
    "heater_v = 30 # V\n",
    "heater_i = 2 # A\n",
    "warmup_heater = EL320P('warmup_heater', heater_addr)\n",
    "err = warmup_heater.error()\n",
    "if err != 'OK':\n",
    "    print('Heater error: {}. Turning heater off.'.format(err))\n",
    "    warmup_heater.output('OFF')\n",
    "else:\n",
    "    warmup_heater.voltage_set(heater_v)\n",
    "    warmup_heater.current_set(heater_i)\n",
    "    warmup_heater.output('ON')\n",
    "    print('Actual output voltage: {:.2f} V'.format(warmup_heater.voltage_out()))\n",
    "    print('Actual output current: {:.2f} A'.format(warmup_heater.current_out()))"
   ]
  }
 ],
 "metadata": {
  "kernelspec": {
   "display_name": "Python 3",
   "language": "python",
   "name": "python3"
  },
  "language_info": {
   "codemirror_mode": {
    "name": "ipython",
    "version": 3
   },
   "file_extension": ".py",
   "mimetype": "text/x-python",
   "name": "python",
   "nbconvert_exporter": "python",
   "pygments_lexer": "ipython3",
   "version": "3.6.8"
  },
  "nbsphinx": {
   "execute": "never"
  }
 },
 "nbformat": 4,
 "nbformat_minor": 2
}
