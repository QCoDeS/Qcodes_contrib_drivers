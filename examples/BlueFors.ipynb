{
 "cells": [
  {
   "cell_type": "markdown",
   "metadata": {},
   "source": [
    "# Example with the BlueFors"
   ]
  },
  {
   "cell_type": "markdown",
   "metadata": {},
   "source": [
    "## Import"
   ]
  },
  {
   "cell_type": "code",
   "execution_count": 3,
   "metadata": {
    "tags": []
   },
   "outputs": [],
   "source": [
    "import qcodes as qc\n",
    "from qcodes_contrib_drivers.drivers.BlueFors.BlueFors import BlueFors"
   ]
  },
  {
   "cell_type": "markdown",
   "metadata": {},
   "source": [
    "## Load instrument\n",
    "\n",
    "The required imformation is a valid path towards the stored BlueFors log files and the different channel of the temperatures and pressures."
   ]
  },
  {
   "cell_type": "code",
   "execution_count": 4,
   "metadata": {
    "tags": []
   },
   "outputs": [
    {
     "name": "stdout",
     "output_type": "stream",
     "text": [
      "Connected to: None blue_lagoon (serial:None, firmware:None) in 0.00s\n",
      "4.53e-06\n",
      "576.0\n",
      "555.0\n",
      "49.6\n",
      "6.36\n",
      "2.9866099999999998\n",
      "42.9614\n",
      "3.26158\n",
      "0.912985\n",
      "0.0078465\n"
     ]
    }
   ],
   "source": [
    "\n",
    "folder_path = 'Valid_path'\n",
    "\n",
    "bf = BlueFors('bf_fridge',\n",
    "              folder_path=folder_path,\n",
    "              channel_vacuum_can=1,\n",
    "              channel_pumping_line=2,\n",
    "              channel_compressor_outlet=3,\n",
    "              channel_compressor_inlet=4,\n",
    "              channel_mixture_tank=5,\n",
    "              channel_venting_line=6,\n",
    "              channel_50k_plate=1,\n",
    "              channel_4k_plate=2,\n",
    "              channel_magnet=3,\n",
    "              channel_still=6,\n",
    "              channel_mixing_chamber=5)\n",
    "\n",
    "print(bf.pressure_vacuum_can())\n",
    "print(bf.pressure_compressor_inlet())\n",
    "print(bf.pressure_compressor_outlet())\n",
    "print(bf.pressure_mixture_tank())\n",
    "print(bf.pressure_venting_line())\n",
    "print(bf.temperature_4k_plate())\n",
    "print(bf.temperature_50k_plate())\n",
    "print(bf.temperature_magnet())\n",
    "print(bf.temperature_mixing_chamber())\n",
    "print(bf.temperature_still())\n"
   ]
  }
 ],
 "metadata": {
  "kernelspec": {
   "display_name": "Python 3.7.7 64-bit ('python37': conda)",
   "name": "python_defaultSpec_1600434773499"
  },
  "language_info": {
   "codemirror_mode": {
    "name": "ipython",
    "version": 3
   },
   "file_extension": ".py",
   "mimetype": "text/x-python",
   "name": "python",
   "nbconvert_exporter": "python",
   "pygments_lexer": "ipython3",
   "version": "3.7.7-final"
  },
  "nbsphinx": {
   "execute": "never"
  }
 },
 "nbformat": 4,
 "nbformat_minor": 2
}
