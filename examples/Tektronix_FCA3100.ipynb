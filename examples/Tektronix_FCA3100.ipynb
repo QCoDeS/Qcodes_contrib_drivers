{
 "cells": [
  {
   "cell_type": "code",
   "execution_count": 1,
   "metadata": {},
   "outputs": [],
   "source": [
    "from qcodes_contrib_drivers.drivers.Tektronix.FCA3100 import FCA3100"
   ]
  },
  {
   "cell_type": "code",
   "execution_count": 2,
   "metadata": {},
   "outputs": [
    {
     "name": "stdout",
     "output_type": "stream",
     "text": [
      "Connected to: TEKTRONIX FCA3000 (serial:579249, firmware:V1.32 26 May 2022 09:54) in 0.13s\n"
     ]
    }
   ],
   "source": [
    "counter = FCA3100('counter', 'USB0::0x0699::0x3000::579249::INSTR', timeout=10)"
   ]
  },
  {
   "cell_type": "markdown",
   "metadata": {},
   "source": [
    "# overview over all parameters"
   ]
  },
  {
   "cell_type": "code",
   "execution_count": 3,
   "metadata": {},
   "outputs": [
    {
     "name": "stdout",
     "output_type": "stream",
     "text": [
      "counter:\n",
      "\tparameter     value\n",
      "--------------------------------------------------------------------------------\n",
      "IDN            :\t{'vendor': 'TEKTRONIX', 'model': 'FCA3000', 'serial': '57924...\n",
      "counter_axis   :\t[ 0.  1.  2.  3.  4.  5.  6.  7.  8.  9. 10.] (#)\n",
      "samples_number :\t11 \n",
      "threshold_A    :\t0 (V)\n",
      "threshold_B    :\t0.036 (V)\n",
      "time_array     :\tNot available (s)\n",
      "timeout        :\t10 (s)\n",
      "timestats      :\tNot available (('s', 's', 's', 's'))\n"
     ]
    }
   ],
   "source": [
    "counter.print_readable_snapshot(update=True)"
   ]
  },
  {
   "cell_type": "markdown",
   "metadata": {},
   "source": [
    "# Usage of the two main parameters"
   ]
  },
  {
   "cell_type": "markdown",
   "metadata": {},
   "source": [
    "Let's get an example of the time statistics parameter (will return mean, stdev, min and max of a statistics containing samples_number number of samples)"
   ]
  },
  {
   "cell_type": "code",
   "execution_count": 8,
   "metadata": {},
   "outputs": [
    {
     "data": {
      "text/plain": [
       "(0.01862650541, 7.4022264e-05, 0.01851450451, 0.01873824896)"
      ]
     },
     "execution_count": 8,
     "metadata": {},
     "output_type": "execute_result"
    }
   ],
   "source": [
    "counter.timestats()"
   ]
  },
  {
   "cell_type": "markdown",
   "metadata": {},
   "source": [
    "Let's get an example of the time array parameter (will return an array of timestamps of length samples_number)"
   ]
  },
  {
   "cell_type": "code",
   "execution_count": 10,
   "metadata": {},
   "outputs": [
    {
     "data": {
      "text/plain": [
       "array([0.01856394, 0.01875304, 0.01868165, 0.01846251, 0.01853304,\n",
       "       0.01867947, 0.01863655, 0.0185761 , 0.01863821, 0.01867253,\n",
       "       0.01866243])"
      ]
     },
     "execution_count": 10,
     "metadata": {},
     "output_type": "execute_result"
    }
   ],
   "source": [
    "counter.time_array()"
   ]
  }
 ],
 "metadata": {
  "kernelspec": {
   "display_name": "Python 3",
   "language": "python",
   "name": "python3"
  },
  "language_info": {
   "codemirror_mode": {
    "name": "ipython",
    "version": 3
   },
   "file_extension": ".py",
   "mimetype": "text/x-python",
   "name": "python",
   "nbconvert_exporter": "python",
   "pygments_lexer": "ipython3",
   "version": "3.11.7"
  },
  "nbsphinx": {
   "execute": "never"
  }
 },
 "nbformat": 4,
 "nbformat_minor": 2
}
